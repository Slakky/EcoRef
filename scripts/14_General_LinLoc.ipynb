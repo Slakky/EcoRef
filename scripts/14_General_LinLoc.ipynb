{
 "cells": [
  {
   "cell_type": "code",
   "execution_count": null,
   "metadata": {},
   "outputs": [],
   "source": [
    "args = commandArgs(trailingOnly=TRUE)\n",
    "\n",
    "if (length(args)==0) {\n",
    "  stop(\"Please supply the condition you.n\", call.=FALSE)\n",
    "  }\n",
    "\n",
    "## input:\n",
    "condition <- args[1]"
   ]
  },
  {
   "cell_type": "code",
   "execution_count": 1,
   "metadata": {},
   "outputs": [],
   "source": [
    "library(bugwas)"
   ]
  },
  {
   "cell_type": "code",
   "execution_count": null,
   "metadata": {},
   "outputs": [],
   "source": [
    "lin_loc(gen = sprintf('/home/claudio/Comp_Genetics/%s_Result/%s_Genotypes.tsv', condition, condition) ,pheno = sprintf('/home/claudio/Comp_Genetics/%s_Result/%s_Phenotypes.tsv', condition, condition), phylo = sprintf('/home/claudio/Comp_Genetics/%s_Result/%s_Tree.nwk', condition, condition) ,prefix = condition ,gem.path = '/home/claudio/Comp_Genetics/bugwas/gemma/gemma.0.93b' ,output.dir = sprintf('/home/claudio/Comp_Genetics/%s_Result/', condition))"
   ]
  }
 ],
 "metadata": {
  "kernelspec": {
   "display_name": "R",
   "language": "R",
   "name": "ir"
  },
  "language_info": {
   "codemirror_mode": "r",
   "file_extension": ".r",
   "mimetype": "text/x-r-source",
   "name": "R",
   "pygments_lexer": "r",
   "version": "3.6.1"
  }
 },
 "nbformat": 4,
 "nbformat_minor": 2
}
