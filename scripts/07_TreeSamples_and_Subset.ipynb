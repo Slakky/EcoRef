{
 "cells": [
  {
   "cell_type": "code",
   "execution_count": 1,
   "metadata": {},
   "outputs": [],
   "source": [
    "import pandas as pd"
   ]
  },
  {
   "cell_type": "markdown",
   "metadata": {},
   "source": [
    "First, extract the sample list from the tree file"
   ]
  },
  {
   "cell_type": "code",
   "execution_count": 4,
   "metadata": {},
   "outputs": [],
   "source": [
    "tree = pd.read_csv('/home/claudio/Comp_Genetics/raw_data/tree_OG.nwk')"
   ]
  },
  {
   "cell_type": "code",
   "execution_count": 19,
   "metadata": {},
   "outputs": [
    {
     "data": {
      "text/html": [
       "<div>\n",
       "<style scoped>\n",
       "    .dataframe tbody tr th:only-of-type {\n",
       "        vertical-align: middle;\n",
       "    }\n",
       "\n",
       "    .dataframe tbody tr th {\n",
       "        vertical-align: top;\n",
       "    }\n",
       "\n",
       "    .dataframe thead th {\n",
       "        text-align: right;\n",
       "    }\n",
       "</style>\n",
       "<table border=\"1\" class=\"dataframe\">\n",
       "  <thead>\n",
       "    <tr style=\"text-align: right;\">\n",
       "      <th></th>\n",
       "      <th>(((('NT12724_555.fasta':0.00000</th>\n",
       "      <th>('NT12748_601.fasta':0.00010</th>\n",
       "      <th>('NT12749_414.fasta':0.00018</th>\n",
       "      <th>('NT12772_575.fasta':0.00003</th>\n",
       "      <th>('NT12773_439.fasta':0.00005</th>\n",
       "      <th>(('NT12820_653.fasta':0.00022</th>\n",
       "      <th>('NT12821_609.fasta':0.00007</th>\n",
       "      <th>('NT12845_581.fasta':0.00022</th>\n",
       "      <th>('NT12844_497.fasta':0.00013</th>\n",
       "      <th>('NT12868_511.fasta':0.00015</th>\n",
       "      <th>...</th>\n",
       "      <th>'NT12647_584.fasta':0.0):0.00000</th>\n",
       "      <th>(('NT12768_622.fasta':0.00012</th>\n",
       "      <th>'NT12865_657.fasta':0.00115)1.000:0.00107</th>\n",
       "      <th>('NT12721_449.fasta':0.00010</th>\n",
       "      <th>('NT12720_467.fasta':0.00007</th>\n",
       "      <th>(('NT12769_503.fasta':0.00015</th>\n",
       "      <th>'NT12840_506.fasta':0.00118)1.000:0.00032</th>\n",
       "      <th>('NT12744_587.fasta':0.00007</th>\n",
       "      <th>'NT12745_645.fasta':0.00012)0.520:0.00000)1.000:0.00023)0.990:0.00015)0.430:0.00000)1.000:0.00017)0.820:0.00002</th>\n",
       "      <th>'NT12630_409.fasta':0.00002)0.870:0.00000)0.000:0.00000)0.300:0.00000)0.110:0.00000);</th>\n",
       "    </tr>\n",
       "  </thead>\n",
       "  <tbody>\n",
       "  </tbody>\n",
       "</table>\n",
       "<p>0 rows × 696 columns</p>\n",
       "</div>"
      ],
      "text/plain": [
       "Empty DataFrame\n",
       "Columns: [(((('NT12724_555.fasta':0.00000, ('NT12748_601.fasta':0.00010, ('NT12749_414.fasta':0.00018, ('NT12772_575.fasta':0.00003, ('NT12773_439.fasta':0.00005, (('NT12820_653.fasta':0.00022, ('NT12821_609.fasta':0.00007, ('NT12845_581.fasta':0.00022, ('NT12844_497.fasta':0.00013, ('NT12868_511.fasta':0.00015, 'NT12869_530.fasta':0.00013)1.000:0.00042)0.980:0.00010)1.000:0.00032)0.990:0.00013)1.000:0.00028, ('NT12796_484.fasta':0.00005, 'NT12797_422.fasta':0.00002)0.340:0.00000)1.000:0.00037)0.880:0.00005)1.000:0.00043)0.940:0.00007)1.000:0.00032)0.910:0.00003, (('NT12822_551.fasta':0.00010, 'NT12711_593.fasta':0.00000)0.230:0.00002, (('NT12684_430.fasta':0.0, 'NT12661_471.fasta':0.0, 'NT12660_453.fasta':0.0, 'NT12685_537.fasta':0.0):0.00000, ((((('NT12807_643.fasta':0.00022, 'NT12806_646.fasta':0.00015)1.000:0.00040, (('NT12783_650.fasta':0.00002, ('NT12831_647.fasta':0.00030, ('NT12830_658.fasta':0.00012, ('NT12879_649.fasta':0.00068, ('NT12878_459.fasta':0.00082, ('NT12854_410.fasta':0.00023, 'NT12855_588.fasta':0.00018)0.320:0.00000)1.000:0.00023)1.000:0.00050)1.000:0.00012)1.000:0.00088)0.790:0.00002, 'NT12782_651.fasta':0.00005)0.400:0.00000)1.000:0.00077, ('NT12758_656.fasta':0.00027, 'NT12759_655.fasta':0.00027)1.000:0.00022)1.000:0.00015, ('NT12734_648.fasta':0.00005, 'NT12735_641.fasta':0.00017)0.230:0.00000)1.000:0.00023, 'NT12710_447.fasta':0.00002)0.900:0.00000)0.820:0.00000)0.760:0.00002)0.830:0.00000, ((('NT12747_507.fasta':0.0, 'NT12746_445.fasta':0.0):0.00000, (('NT12842_570.fasta':0.00007, 'NT12819_536.fasta':0.00000)0.960:0.00005, (('NT12771_614.fasta':0.0, 'NT12795_478.fasta':0.0, 'NT12794_586.fasta':0.0):0.00000, ('NT12818_535.fasta':0.00002, ('NT12867_475.fasta':0.00130, 'NT12843_567.fasta':0.00018)1.000:0.00037)0.880:0.00000)0.890:0.00000)0.910:0.00002)0.900:0.00003, (('NT12634_605.fasta':0.0, 'NT12635_617.fasta':0.0, 'NT12659_597.fasta':0.0):0.00000, (('NT12658_480.fasta':0.0, 'NT12682_539.fasta':0.0, 'NT12709_640.fasta':0.0, 'NT12708_514.fasta':0.0):0.00002, (('NT12756_412.fasta':0.0, 'NT12757_442.fasta':0.0, 'NT12732_469.fasta':0.0, 'NT12733_496.fasta':0.0):0.00000, ((('NT12781_429.fasta':0.0, 'NT12780_436.fasta':0.0):0.00000, ('NT12804_489.fasta':0.00003, 'NT12829_406.fasta':0.00003)0.960:0.00000)0.000:0.00000, ('NT12805_528.fasta':0.00002, ('NT12876_572.fasta':0.00007, ('NT12852_632.fasta':0.0, 'NT12853_531.fasta':0.0):0.00000)0.990:0.00008)0.410:0.00000)0.880:0.00002)0.860:0.00002)0.000:0.00000)0.840:0.00002)0.890:0.00000)0.000:0.00000, ('NT12663_532.fasta':0.00002, 'NT12723_435.fasta':0.00002)0.850:0.00000, (((((('NT12737_423.fasta':0.0, 'NT12736_577.fasta':0.0):0.00002, (('NT12880_542.fasta':0.00007, ('NT12856_625.fasta':0.00000, 'NT12857_538.fasta':0.00002)0.520:0.00000)0.930:0.00003, (('NT12761_456.fasta':0.0, 'NT12784_455.fasta':0.0, 'NT12808_524.fasta':0.0, 'NT12832_440.fasta':0.0, 'NT12760_425.fasta':0.0, 'NT12833_615.fasta':0.0, 'NT12785_553.fasta':0.0):0.00000, 'NT12809_494.fasta':0.00002)0.580:0.00000)0.870:0.00003)0.890:0.00002, ('NT12764_544.fasta':0.00057, ('NT12765_613.fasta':0.00038, ('NT12789_526.fasta':0.00020, (('NT12885_594.fasta':0.00152, 'NT12861_635.fasta':0.00120)1.000:0.00118, ('NT12813_461.fasta':0.00060, 'NT12812_560.fasta':0.00032)0.560:0.00000)1.000:0.00033)1.000:0.00082)1.000:0.00048)1.000:0.00093)0.950:0.00000, ((('NT12725_492.fasta':0.00003, ('NT12700_462.fasta':0.0, 'NT12701_540.fasta':0.0):0.00003)1.000:0.00000, (('NT12696_446.fasta':0.00002, ('NT12005_17.fasta':0.00002, ('NT12317_353.fasta':0.00447, (('NT12574_699.fasta':0.00117, 'NT12308_348.fasta':0.00350)1.000:0.00178, ('NT12426_777.fasta':0.01803, ((((('NT12040_50.fasta':0.02612, ('NT12100_90.fasta':0.00048, ('NT12570_695.fasta':0.00072, ('NT12120_270.fasta':0.00020, 'NT12113_98.fasta':0.00037)1.000:0.00038)0.950:0.00003)1.000:0.01384)1.000:0.01290, (('NT12230_338.fasta':0.02429, ...]\n",
       "Index: []\n",
       "\n",
       "[0 rows x 696 columns]"
      ]
     },
     "execution_count": 19,
     "metadata": {},
     "output_type": "execute_result"
    }
   ],
   "source": [
    "tree"
   ]
  },
  {
   "cell_type": "code",
   "execution_count": 11,
   "metadata": {},
   "outputs": [],
   "source": [
    "import re\n",
    "sample_list = list(tree.columns)\n",
    "samples_list = [re.sub('[^A-Za-z0-9]+','',sample.split(\"_\")[0]) for sample in sample_list]"
   ]
  },
  {
   "cell_type": "code",
   "execution_count": 15,
   "metadata": {},
   "outputs": [],
   "source": [
    "no_fastaref = [sample for sample in samples_list if sample != 'genomefastaref00']"
   ]
  },
  {
   "cell_type": "markdown",
   "metadata": {},
   "source": [
    "Second, subset phenotype and genotype dataframes with the samples_list condition"
   ]
  },
  {
   "cell_type": "code",
   "execution_count": 12,
   "metadata": {},
   "outputs": [],
   "source": [
    "phenotypes = pd.read_csv('/home/claudio/Comp_Genetics/results/bugwas_phenotypes_unique.tsv', sep ='\\t')\n",
    "genotypes = pd.read_csv('/home/claudio/Comp_Genetics/results/bugwas_genotypes.tsv', sep='\\t')"
   ]
  },
  {
   "cell_type": "code",
   "execution_count": 16,
   "metadata": {},
   "outputs": [],
   "source": [
    "subset_genotypes = genotypes[no_fastaref]\n",
    "# in case it needs to be ordered subset_genotypes = subset_genotypes.reindex(sorted(subset_genotypes.columns[1:]), axis=1)\n",
    "subset_genotypes.to_csv('/home/claudio/Comp_Genetics/results/Unique_all_genotypes_treematch.tsv', sep = '\\t', index = False)"
   ]
  },
  {
   "cell_type": "code",
   "execution_count": 17,
   "metadata": {},
   "outputs": [],
   "source": [
    "unique_phenotypes = phenotypes.drop_duplicates(subset=['ID'])\n",
    "subset_phenotypes = unique_phenotypes.loc[unique_phenotypes['ID'].isin(no_fastaref)]\n",
    "subset_phenotypes.to_csv('/home/claudio/Comp_Genetics/results/Unique_all_phenotypes_treematch.tsv', sep = '\\t', index = False)"
   ]
  },
  {
   "cell_type": "code",
   "execution_count": null,
   "metadata": {},
   "outputs": [],
   "source": []
  }
 ],
 "metadata": {
  "kernelspec": {
   "display_name": "Python 3",
   "language": "python",
   "name": "python3"
  },
  "language_info": {
   "codemirror_mode": {
    "name": "ipython",
    "version": 3
   },
   "file_extension": ".py",
   "mimetype": "text/x-python",
   "name": "python",
   "nbconvert_exporter": "python",
   "pygments_lexer": "ipython3",
   "version": "3.7.3"
  }
 },
 "nbformat": 4,
 "nbformat_minor": 2
}
