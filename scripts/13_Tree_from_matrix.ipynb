{
 "cells": [
  {
   "cell_type": "code",
   "execution_count": 25,
   "metadata": {},
   "outputs": [],
   "source": [
    "args = commandArgs(trailingOnly=TRUE)\n",
    "\n",
    "if (length(args)==0) {\n",
    "  stop(\"Please supply the condition you.n\", call.=FALSE)\n",
    "  }\n",
    "\n",
    "## input:\n",
    "condition <- args[1]"
   ]
  },
  {
   "cell_type": "code",
   "execution_count": 27,
   "metadata": {},
   "outputs": [
    {
     "name": "stderr",
     "output_type": "stream",
     "text": [
      "Warning message in file(file, \"rt\"):\n",
      "“cannot open file '/home/claudio/Comp_Genetics//home/claudio/.local/share/jupyter/runtime/kernel-fffea465-574e-4e61-9d82-fb7e77e95cc7.json_Results//home/claudio/.local/share/jupyter/runtime/kernel-fffea465-574e-4e61-9d82-fb7e77e95cc7.json_Distance_Matrix.tsv': No such file or directory”"
     ]
    },
    {
     "ename": "ERROR",
     "evalue": "Error in file(file, \"rt\"): cannot open the connection\n",
     "output_type": "error",
     "traceback": [
      "Error in file(file, \"rt\"): cannot open the connection\nTraceback:\n",
      "1. as.matrix(read.table(file = sprintf(\"/home/claudio/Comp_Genetics/%s_Results/%s_Distance_Matrix.tsv\", \n .     condition, condition), sep = \"\\t\", header = TRUE))",
      "2. read.table(file = sprintf(\"/home/claudio/Comp_Genetics/%s_Results/%s_Distance_Matrix.tsv\", \n .     condition, condition), sep = \"\\t\", header = TRUE)",
      "3. file(file, \"rt\")"
     ]
    }
   ],
   "source": [
    "d.m <- as.matrix(read.table(file = sprintf('/home/claudio/Comp_Genetics/%s_Results/%s_Distance_Matrix.tsv', condition, condition), sep = '\\t', header = TRUE))"
   ]
  },
  {
   "cell_type": "code",
   "execution_count": 5,
   "metadata": {},
   "outputs": [],
   "source": [
    "d.m[is.na(d.m)] <- 0"
   ]
  },
  {
   "cell_type": "code",
   "execution_count": 6,
   "metadata": {},
   "outputs": [],
   "source": [
    "library(ape)"
   ]
  },
  {
   "cell_type": "code",
   "execution_count": 23,
   "metadata": {},
   "outputs": [
    {
     "name": "stderr",
     "output_type": "stream",
     "text": [
      "Warning message in dist(d.m):\n",
      "“NAs introduced by coercion”"
     ]
    }
   ],
   "source": [
    "my.tree <- nj(dist(d.m))\n",
    "my.tree$tip.label <- d.m[,1]"
   ]
  },
  {
   "cell_type": "code",
   "execution_count": 24,
   "metadata": {},
   "outputs": [],
   "source": [
    "write.tree(my.tree, file='/home/claudio/Comp_Genetics/A22.0P5UM_Results/A22.0P5UM_Tree.nwk', tree.names = TRUE)"
   ]
  }
 ],
 "metadata": {
  "kernelspec": {
   "display_name": "R",
   "language": "R",
   "name": "ir"
  },
  "language_info": {
   "codemirror_mode": "r",
   "file_extension": ".r",
   "mimetype": "text/x-r-source",
   "name": "R",
   "pygments_lexer": "r",
   "version": "3.6.1"
  }
 },
 "nbformat": 4,
 "nbformat_minor": 2
}
