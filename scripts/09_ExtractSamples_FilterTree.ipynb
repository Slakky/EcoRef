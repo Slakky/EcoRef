{
 "cells": [
  {
   "cell_type": "code",
   "execution_count": 1,
   "metadata": {},
   "outputs": [],
   "source": [
    "import pandas as pd"
   ]
  },
  {
   "cell_type": "code",
   "execution_count": 2,
   "metadata": {},
   "outputs": [],
   "source": [
    "frequencies = pd.read_csv('/home/claudio/Comp_Genetics/result_true/duplicate_samples.tsv', sep='\\t', header=None)\n",
    "orphans = pd.read_csv('/home/claudio/Comp_Genetics/result_true/nomatchingsamples.tsv', sep='\\t', header=None)"
   ]
  },
  {
   "cell_type": "code",
   "execution_count": 3,
   "metadata": {},
   "outputs": [],
   "source": [
    "orphans_list = list(orphans.iloc[:,0])\n",
    "orphans_list_unique = list(dict.fromkeys(orphans_list))\n",
    "frequencies_1 = list(frequencies.sort_values(by=[1], ascending=False).iloc[:,0])\n",
    "matching_list = [sample for sample in frequencies_1 if sample not in orphans_list_unique]"
   ]
  },
  {
   "cell_type": "code",
   "execution_count": 5,
   "metadata": {},
   "outputs": [],
   "source": [
    "with open('/home/claudio/Comp_Genetics/result_true/filter_tree.tsv', 'w') as fp:\n",
    "    fp.write('\\n'.join('{}'.format(sample) for sample in matching_list))\n",
    "    "
   ]
  },
  {
   "cell_type": "code",
   "execution_count": null,
   "metadata": {},
   "outputs": [],
   "source": []
  }
 ],
 "metadata": {
  "kernelspec": {
   "display_name": "Python 3",
   "language": "python",
   "name": "python3"
  },
  "language_info": {
   "codemirror_mode": {
    "name": "ipython",
    "version": 3
   },
   "file_extension": ".py",
   "mimetype": "text/x-python",
   "name": "python",
   "nbconvert_exporter": "python",
   "pygments_lexer": "ipython3",
   "version": "3.7.3"
  }
 },
 "nbformat": 4,
 "nbformat_minor": 2
}
