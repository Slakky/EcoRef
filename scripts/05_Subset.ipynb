{
 "cells": [
  {
   "cell_type": "code",
   "execution_count": 1,
   "metadata": {},
   "outputs": [],
   "source": [
    "import pandas as pd"
   ]
  },
  {
   "cell_type": "code",
   "execution_count": 11,
   "metadata": {},
   "outputs": [],
   "source": [
    "phenotypes = pd.read_csv('/Users/claudionovellarausell/Desktop/Comp_Genetics/results/bugwas_phenotypes_unique.tsv', sep ='\\t')\n",
    "genotypes = pd.read_csv('/Users/claudionovellarausell/Desktop/Comp_Genetics/results/bugwas_genotypes.tsv', sep='\\t')\n",
    "frequencies = pd.read_csv('/Users/claudionovellarausell/Desktop/Comp_Genetics/results/duplicate_samples.tsv', sep='\\t', header=None)\n",
    "orphans = pd.read_csv('/Users/claudionovellarausell/Desktop/Comp_Genetics/results/nomatchingsamples.tsv', sep='\\t')"
   ]
  },
  {
   "cell_type": "markdown",
   "metadata": {},
   "source": [
    "Create a list of the top 200 most repeated no orphan samples, to create a subset"
   ]
  },
  {
   "cell_type": "code",
   "execution_count": 12,
   "metadata": {},
   "outputs": [],
   "source": [
    "orphans_list = list(orphans.iloc[:,0])\n",
    "orphans_list_unique = list(dict.fromkeys(orphans_list))\n",
    "top200_list_orphans = list(frequencies.sort_values(by=[1], ascending=False).iloc[:299,0])\n",
    "top200_list = [sample for sample in top200_list_orphans if sample not in orphans_list_unique]"
   ]
  },
  {
   "cell_type": "markdown",
   "metadata": {},
   "source": [
    "Subset the genotypes dataframes"
   ]
  },
  {
   "cell_type": "code",
   "execution_count": 13,
   "metadata": {},
   "outputs": [],
   "source": [
    "subset_genotypes = genotypes[top200_list]\n",
    "subset_genotypes = subset_genotypes.reindex(sorted(subset_genotypes.columns), axis=1)\n",
    "subset_genotypes.to_csv('/Users/claudionovellarausell/Desktop/Comp_Genetics/results/Unique_top200_genotypes.tsv', sep = '\\t', index = False)"
   ]
  },
  {
   "cell_type": "code",
   "execution_count": 17,
   "metadata": {},
   "outputs": [],
   "source": [
    "unique_phenotypes = phenotypes.drop_duplicates(subset=['ID'])\n",
    "subset_phenotypes = unique_phenotypes.loc[unique_phenotypes['ID'].isin(top200_list)]\n",
    "subset_phenotypes.to_csv('/Users/claudionovellarausell/Desktop/Comp_Genetics/results/Unique_top200_phenotypes.tsv', sep = '\\t', index = False)"
   ]
  },
  {
   "cell_type": "code",
   "execution_count": null,
   "metadata": {},
   "outputs": [],
   "source": []
  }
 ],
 "metadata": {
  "kernelspec": {
   "display_name": "Python 3",
   "language": "python",
   "name": "python3"
  },
  "language_info": {
   "codemirror_mode": {
    "name": "ipython",
    "version": 3
   },
   "file_extension": ".py",
   "mimetype": "text/x-python",
   "name": "python",
   "nbconvert_exporter": "python",
   "pygments_lexer": "ipython3",
   "version": "3.7.4"
  }
 },
 "nbformat": 4,
 "nbformat_minor": 2
}
