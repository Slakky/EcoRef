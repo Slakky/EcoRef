{
 "cells": [
  {
   "cell_type": "code",
   "execution_count": 4,
   "metadata": {},
   "outputs": [],
   "source": [
    "import pandas as pd"
   ]
  },
  {
   "cell_type": "code",
   "execution_count": 5,
   "metadata": {},
   "outputs": [],
   "source": [
    "phenotypes = pd.read_csv('/Users/claudionovellarausell/Desktop/Comp_Genetics/raw_data/phenotypes_formatted.tsv', sep = '\\t')\n",
    "genotypes = pd.read_csv('/Users/claudionovellarausell/Desktop/Comp_Genetics/raw_data/genotypes_formatted.tsv', sep = '\\t')"
   ]
  },
  {
   "cell_type": "markdown",
   "metadata": {},
   "source": [
    "Extracting the sample names from the phenotypes and genotypes files"
   ]
  },
  {
   "cell_type": "code",
   "execution_count": 8,
   "metadata": {},
   "outputs": [],
   "source": [
    "samples_genotypes = list(genotypes.columns.values[2:])\n",
    "samples_genotypes.sort()"
   ]
  },
  {
   "cell_type": "code",
   "execution_count": 6,
   "metadata": {},
   "outputs": [],
   "source": [
    "samples_phenotypes = list(phenotypes.iloc[:,1])"
   ]
  },
  {
   "cell_type": "markdown",
   "metadata": {},
   "source": [
    "Are all the samples in the genotypes file present in the phenotype file? Which ones?"
   ]
  },
  {
   "cell_type": "code",
   "execution_count": 9,
   "metadata": {},
   "outputs": [
    {
     "name": "stdout",
     "output_type": "stream",
     "text": [
      "Number of no-matching samples between files: 192, from a total of 695\n"
     ]
    }
   ],
   "source": [
    "nomatch_samples = [sample for sample in samples_phenotypes if sample not in samples_genotypes]\n",
    "nomatch_samples = list(dict.fromkeys(nomatch_samples))\n",
    "print('Number of no-matching samples between files: {}, from a total of {}'.format(len(nomatch_samples), len(samples_genotypes)))\n",
    "with open('nomatchingsamples.tsv', 'w') as fp:\n",
    "    fp.write('\\n'.join('{}'.format(sample) for sample in nomatch_samples))"
   ]
  },
  {
   "cell_type": "markdown",
   "metadata": {},
   "source": [
    "What are the duplicate frequencies in the phenotype file?"
   ]
  },
  {
   "cell_type": "code",
   "execution_count": 10,
   "metadata": {},
   "outputs": [
    {
     "name": "stdout",
     "output_type": "stream",
     "text": [
      "869\n"
     ]
    }
   ],
   "source": [
    "import collections\n",
    "import matplotlib.pyplot as plt\n",
    "\n",
    "duplicate_frequencies = [(item,count) for item, count in collections.Counter(samples_phenotypes).items()]\n",
    "print(len(duplicate_frequencies))\n",
    "\n",
    "with open('duplicate_samples.tsv', 'w') as fp:\n",
    "    fp.write('\\n'.join('{}\\t{}'.format(element[0], element[1]) for element in duplicate_frequencies))"
   ]
  },
  {
   "cell_type": "markdown",
   "metadata": {},
   "source": [
    "Formatting the table, clearing the no-matching samples in the phenotype file and saving"
   ]
  },
  {
   "cell_type": "code",
   "execution_count": 11,
   "metadata": {},
   "outputs": [],
   "source": [
    "phenotypes_2 = phenotypes.drop(phenotypes.columns[0], axis = 1)\n",
    "# ~ = negation\n",
    "phenotypes_3 = phenotypes_2[~phenotypes_2['ID'].isin(nomatch_samples)]\n",
    "phenotypes_3.to_csv('/Users/claudionovellarausell/Desktop/Comp_Genetics/results/bugwas_phenotypes_unique.tsv', sep = '\\t', index =False)"
   ]
  },
  {
   "cell_type": "markdown",
   "metadata": {},
   "source": [
    "Formatting the table and saving"
   ]
  },
  {
   "cell_type": "code",
   "execution_count": 12,
   "metadata": {},
   "outputs": [],
   "source": [
    "genotypes_2 = genotypes.drop(genotypes.columns[0], axis = 1).rename(columns={\"X\":\"ps\"})\n",
    "genotypes_2.to_csv('/Users/claudionovellarausell/Desktop/Comp_Genetics/results/bugwas_genotypes.tsv', sep = '\\t', index = False)"
   ]
  },
  {
   "cell_type": "code",
   "execution_count": null,
   "metadata": {},
   "outputs": [],
   "source": []
  }
 ],
 "metadata": {
  "kernelspec": {
   "display_name": "Python 3",
   "language": "python",
   "name": "python3"
  },
  "language_info": {
   "codemirror_mode": {
    "name": "ipython",
    "version": 3
   },
   "file_extension": ".py",
   "mimetype": "text/x-python",
   "name": "python",
   "nbconvert_exporter": "python",
   "pygments_lexer": "ipython3",
   "version": "3.7.3"
  }
 },
 "nbformat": 4,
 "nbformat_minor": 2
}
