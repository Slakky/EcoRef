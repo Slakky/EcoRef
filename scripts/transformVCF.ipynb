{
 "cells": [
  {
   "cell_type": "code",
   "execution_count": 5,
   "metadata": {},
   "outputs": [],
   "source": [
    "from cyvcf2 import VCF\n",
    "import pandas as pd\n",
    "\n",
    "#def import_vcf_as_gt_array(f, threads=1): returnnp.array([variant.gt_types for variant in VCF(f,threads=threads, gts012=True) ])\n",
    "def import_vcf_as_DataFrame(input_vcf, threads=1):\n",
    "    \"\"\"imports the vcf as a nxm array of 0s and 1s\"\"\"\n",
    "    def transform_bases(gt_bases):\n",
    "        \"\"\"transforms bases. necessary due \"\"\"\n",
    "        ## changed the original function to keep the nucleotide names instead of creating a matrix of 0 and 1 for reference or variant\n",
    "        d = {\".\":variant.REF, \"G\":\"G\",\"A\":\"A\",\"T\":\"T\",\"C\":\"C\"}\n",
    "        new_list = [d[i] for i in gt_bases]\n",
    "        return new_list      \n",
    "    \n",
    "    vcf = VCF(input_vcf,threads=threads, gts012=True)\n",
    "    gt_list = []\n",
    "    snp_pos = []\n",
    "    for variant in vcf:\n",
    "        \n",
    "        if not len(variant.ALT)>=2:    # exclude multiallelic snps\n",
    "            gt_list.append(transform_bases(variant.gt_bases))\n",
    "            snp_pos.append(str(variant.POS))\n",
    "            \n",
    "    gt_pd = pd.DataFrame(gt_list)\n",
    "    gt_pd.index= snp_pos\n",
    "    gt_pd.columns= vcf.samples\n",
    "    return gt_pd"
   ]
  },
  {
   "cell_type": "code",
   "execution_count": 6,
   "metadata": {},
   "outputs": [],
   "source": [
    "genotypes = import_vcf_as_DataFrame(\"/Users/claudionovellarausell/Desktop/Comp_Genetics/raw_data/snps.vcf\", threads=4)\n",
    "genotypes.to_csv(\"/Users/claudionovellarausell/Desktop/Comp_Genetics/raw_data/genotypes.tsv\", sep = \"\\t\")"
   ]
  },
  {
   "cell_type": "code",
   "execution_count": null,
   "metadata": {},
   "outputs": [],
   "source": []
  }
 ],
 "metadata": {
  "kernelspec": {
   "display_name": "Python 3",
   "language": "python",
   "name": "python3"
  },
  "language_info": {
   "codemirror_mode": {
    "name": "ipython",
    "version": 3
   },
   "file_extension": ".py",
   "mimetype": "text/x-python",
   "name": "python",
   "nbconvert_exporter": "python",
   "pygments_lexer": "ipython3",
   "version": "3.7.4"
  }
 },
 "nbformat": 4,
 "nbformat_minor": 2
}
