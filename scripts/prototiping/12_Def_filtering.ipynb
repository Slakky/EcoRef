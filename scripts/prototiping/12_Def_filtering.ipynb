{
 "cells": [
  {
   "cell_type": "code",
   "execution_count": 23,
   "metadata": {},
   "outputs": [],
   "source": [
    "import pandas as pd\n",
    "import collections\n",
    "import matplotlib.pyplot as plt\n",
    "import subprocess"
   ]
  },
  {
   "cell_type": "code",
   "execution_count": 24,
   "metadata": {},
   "outputs": [
    {
     "name": "stdout",
     "output_type": "stream",
     "text": [
      "Condition to test: A22.0P5UM\n"
     ]
    }
   ],
   "source": [
    "condition = str(input('Condition to test: '))"
   ]
  },
  {
   "cell_type": "code",
   "execution_count": 25,
   "metadata": {},
   "outputs": [],
   "source": [
    "all_phenotypes = pd.read_csv('/home/claudio/Comp_Genetics/results/bugwas_phenotypes.tsv', sep = '\\t')\n",
    "genotypes = pd.read_csv('/home/claudio/Comp_Genetics/raw_data/genotypes_noref_formatted.tsv', sep = '\\t')"
   ]
  },
  {
   "cell_type": "code",
   "execution_count": 26,
   "metadata": {},
   "outputs": [],
   "source": [
    "subset_phenotypes = all_phenotypes[all_phenotypes['pheno'].str.contains(condition)]\n",
    "genotypes_1 = genotypes.rename(columns={\"Unnamed: 0\":\"ps\"})"
   ]
  },
  {
   "cell_type": "code",
   "execution_count": 27,
   "metadata": {},
   "outputs": [],
   "source": [
    "ini_samples_genotypes = list(genotypes_1.columns.values[2:])\n",
    "ini_samples_phenotypes = list(subset_phenotypes.iloc[:,0])\n",
    "\n",
    "# Removing the reference sample from the phenotypes (aka NT12001)\n",
    "ini_samples_phenotypes = [sample for sample in ini_samples_phenotypes if sample != 'NT12001']"
   ]
  },
  {
   "cell_type": "code",
   "execution_count": 40,
   "metadata": {},
   "outputs": [
    {
     "name": "stderr",
     "output_type": "stream",
     "text": [
      "/home/claudio/miniconda3/lib/python3.7/site-packages/ipykernel_launcher.py:8: SettingWithCopyWarning: \n",
      "A value is trying to be set on a copy of a slice from a DataFrame.\n",
      "Try using .loc[row_indexer,col_indexer] = value instead\n",
      "\n",
      "See the caveats in the documentation: http://pandas.pydata.org/pandas-docs/stable/user_guide/indexing.html#returning-a-view-versus-a-copy\n",
      "  \n"
     ]
    }
   ],
   "source": [
    "def norm(x):\n",
    "    y = (x - phenotypes['pheno'].min())/(phenotypes['pheno'].max() - phenotypes['pheno'].min())\n",
    "    return y\n",
    "\n",
    "# Which are the samples that do not match\n",
    "nomatch_samples = [sample for sample in ini_samples_phenotypes if sample not in ini_samples_genotypes]\n",
    "nomatch_samples = list(dict.fromkeys(nomatch_samples))\n",
    "    \n",
    "# Get rid of duplicates and nomatching samples on the phenotypes\n",
    "phenotypes_1 = subset_phenotypes.drop_duplicates(subset=['ID'])\n",
    "phenotypes_2 = phenotypes_1[~phenotypes_1['ID'].isin(nomatch_samples) & phenotypes_1['ID'].isin(ini_samples_phenotypes)] ## ~ = negation\n",
    "phenotypes_2['pheno'] = phenotypes_2['pheno'].map(lambda x: float(x.split('_')[1]).apply(norm)\n",
    "\n",
    "phenotypes_2.to_csv('/home/claudio/Comp_Genetics/{0}_Results/{0}_Phenotypes.tsv'.format(condition), sep = '\\t', index = False)    \n",
    "# Get sample list to filter\n",
    "samples_phenotypes = list(phenotypes_2.iloc[:,0])\n",
    "with open('/home/claudio/Comp_Genetics/{0}_Results/{0}_Filter_Tree.tsv'.format(condition), 'w') as fp:\n",
    "    fp.write('\\n'.join('{}'.format(sample) for sample in samples_phenotypes))\n",
    "samples_phenotypes.insert(0,'ps')\n",
    "    \n",
    "# Subset the genotype dataframe with the phenotype samples\n",
    "subset_genotypes = genotypes_1[samples_phenotypes]\n",
    "    \n",
    "# Remove invariant sites\n",
    "invariant_sites = []\n",
    "for i, k in subset_genotypes.iterrows():\n",
    "    if len(set(k[1:]))== 1:\n",
    "        invariant_sites.append(False)\n",
    "    else:\n",
    "        invariant_sites.append(True)\n",
    "subset_genotypes = subset_genotypes[invariant_sites]\n",
    "subset_genotypes.to_csv('/home/claudio/Comp_Genetics/{0}_Results/{0}_Genotypes.tsv'.format(condition), sep = '\\t', index = False)"
   ]
  },
  {
   "cell_type": "code",
   "execution_count": 42,
   "metadata": {},
   "outputs": [
    {
     "name": "stdout",
     "output_type": "stream",
     "text": [
      "/home/claudio/Comp_Genetics/tassel-5-standalone/lib/ahocorasick-0.2.4.jar:/home/claudio/Comp_Genetics/tassel-5-standalone/lib/kotlinx-coroutines-core-1.3.0.jar:/home/claudio/Comp_Genetics/tassel-5-standalone/lib/kotlin-stdlib-1.3.50.jar:/home/claudio/Comp_Genetics/tassel-5-standalone/lib/jfreechart-1.0.19.jar:/home/claudio/Comp_Genetics/tassel-5-standalone/lib/slf4j-api-1.7.10.jar:/home/claudio/Comp_Genetics/tassel-5-standalone/lib/biojava-core-4.0.0.jar:/home/claudio/Comp_Genetics/tassel-5-standalone/lib/itextpdf-5.1.0.jar:/home/claudio/Comp_Genetics/tassel-5-standalone/lib/log4j-1.2.13.jar:/home/claudio/Comp_Genetics/tassel-5-standalone/lib/gs-core-1.3.jar:/home/claudio/Comp_Genetics/tassel-5-standalone/lib/snappy-java-1.1.1.6.jar:/home/claudio/Comp_Genetics/tassel-5-standalone/lib/fastutil-8.2.2.jar:/home/claudio/Comp_Genetics/tassel-5-standalone/lib/slf4j-simple-1.7.10.jar:/home/claudio/Comp_Genetics/tassel-5-standalone/lib/scala-library-2.10.1.jar:/home/claudio/Comp_Genetics/tassel-5-standalone/lib/commons-codec-1.10.jar:/home/claudio/Comp_Genetics/tassel-5-standalone/lib/htsjdk-2.19.0.jar:/home/claudio/Comp_Genetics/tassel-5-standalone/lib/javax.json-1.0.4.jar:/home/claudio/Comp_Genetics/tassel-5-standalone/lib/biojava-phylo-4.0.0.jar:/home/claudio/Comp_Genetics/tassel-5-standalone/lib/trove-3.0.3.jar:/home/claudio/Comp_Genetics/tassel-5-standalone/lib/colt-1.2.0.jar:/home/claudio/Comp_Genetics/tassel-5-standalone/lib/junit-4.10.jar:/home/claudio/Comp_Genetics/tassel-5-standalone/lib/forester-1.038.jar:/home/claudio/Comp_Genetics/tassel-5-standalone/lib/ejml-0.23.jar:/home/claudio/Comp_Genetics/tassel-5-standalone/lib/gs-ui-1.3.jar:/home/claudio/Comp_Genetics/tassel-5-standalone/lib/jhdf5-14.12.5.jar:/home/claudio/Comp_Genetics/tassel-5-standalone/lib/sqlite-jdbc-3.8.5-pre1.jar:/home/claudio/Comp_Genetics/tassel-5-standalone/lib/jfreesvg-3.2.jar:/home/claudio/Comp_Genetics/tassel-5-standalone/lib/phg.jar:/home/claudio/Comp_Genetics/tassel-5-standalone/lib/jcommon-1.0.23.jar:/home/claudio/Comp_Genetics/tassel-5-standalone/lib/biojava-alignment-4.0.0.jar:/home/claudio/Comp_Genetics/tassel-5-standalone/lib/guava-22.0.jar:/home/claudio/Comp_Genetics/tassel-5-standalone/lib/postgresql-9.4-1201.jdbc41.jar:/home/claudio/Comp_Genetics/tassel-5-standalone/lib/commons-math3-3.4.1.jar:/home/claudio/Comp_Genetics/tassel-5-standalone/lib/json-simple-1.1.1.jar:/home/claudio/Comp_Genetics/tassel-5-standalone/lib/mail-1.4.jar:/home/claudio/Comp_Genetics/tassel-5-standalone/sTASSEL.jar\n",
      "Memory Settings: -Xms512m -Xmx10g\n",
      "Tassel Pipeline Arguments: -importGuess /home/claudio/Comp_Genetics/A22.0P5UM_Results/A22.0P5UM_snps.vcf.gz -CreateTreePlugin -clusteringMethod Neighbor_Joining -endPlugin -export hello_there -exportType SqrMatrix\n",
      "[main] INFO net.maizegenetics.tassel.TasselLogging - Tassel Version: 5.2.55  Date: September 10, 2019\n",
      "[main] INFO net.maizegenetics.tassel.TasselLogging - Max Available Memory Reported by JVM: 9102 MB\n",
      "[main] INFO net.maizegenetics.tassel.TasselLogging - Java Version: 1.8.0_191\n",
      "[main] INFO net.maizegenetics.tassel.TasselLogging - OS: Linux\n",
      "[main] INFO net.maizegenetics.tassel.TasselLogging - Number of Processors: 32\n",
      "[main] INFO net.maizegenetics.pipeline.TasselPipeline - Tassel Pipeline Arguments: [-fork1, -importGuess, /home/claudio/Comp_Genetics/A22.0P5UM_Results/A22.0P5UM_snps.vcf.gz, -CreateTreePlugin, -clusteringMethod, Neighbor_Joining, -endPlugin, -export, hello_there, -exportType, SqrMatrix, -runfork1]\n",
      "net.maizegenetics.analysis.data.FileLoadPlugin\n",
      "   net.maizegenetics.analysis.tree.CreateTreePlugin\n",
      "      net.maizegenetics.analysis.data.ExportMultiplePlugin\n",
      "[pool-1-thread-1] INFO net.maizegenetics.plugindef.AbstractPlugin - Starting net.maizegenetics.analysis.data.FileLoadPlugin: time: Sep 17, 2019 17:13:51\n",
      "[pool-1-thread-1] INFO net.maizegenetics.plugindef.AbstractPlugin - \n",
      "FileLoadPlugin Parameters\n",
      "format: Make Best Guess\n",
      "sortPositions: false\n",
      "keepDepth: true\n",
      "\n",
      "[pool-1-thread-1] INFO net.maizegenetics.analysis.data.FileLoadPlugin - Start Loading File: /home/claudio/Comp_Genetics/A22.0P5UM_Results/A22.0P5UM_snps.vcf.gz time: Sep 17, 2019 17:13:51\n",
      "[pool-1-thread-1] INFO net.maizegenetics.analysis.data.FileLoadPlugin - guessAtUnknowns: type: VCF\n",
      "[pool-1-thread-1] INFO net.maizegenetics.pipeline.TasselPipeline - net.maizegenetics.analysis.data.FileLoadPlugin: time: Sep 17, 2019 17:13:56: progress: 0%\n",
      "[pool-1-thread-1] INFO net.maizegenetics.pipeline.TasselPipeline - net.maizegenetics.analysis.data.FileLoadPlugin: time: Sep 17, 2019 17:13:56: progress: 10%\n",
      "[pool-1-thread-1] INFO net.maizegenetics.pipeline.TasselPipeline - net.maizegenetics.analysis.data.FileLoadPlugin: time: Sep 17, 2019 17:13:56: progress: 20%\n",
      "[pool-1-thread-1] INFO net.maizegenetics.pipeline.TasselPipeline - net.maizegenetics.analysis.data.FileLoadPlugin: time: Sep 17, 2019 17:14:1: progress: 30%\n",
      "[pool-1-thread-1] INFO net.maizegenetics.pipeline.TasselPipeline - net.maizegenetics.analysis.data.FileLoadPlugin: time: Sep 17, 2019 17:14:1: progress: 40%\n",
      "[pool-1-thread-1] INFO net.maizegenetics.pipeline.TasselPipeline - net.maizegenetics.analysis.data.FileLoadPlugin: time: Sep 17, 2019 17:14:2: progress: 50%\n",
      "[pool-1-thread-1] INFO net.maizegenetics.pipeline.TasselPipeline - net.maizegenetics.analysis.data.FileLoadPlugin: time: Sep 17, 2019 17:14:2: progress: 60%\n",
      "[pool-1-thread-1] INFO net.maizegenetics.pipeline.TasselPipeline - net.maizegenetics.analysis.data.FileLoadPlugin: time: Sep 17, 2019 17:14:2: progress: 70%\n",
      "[pool-1-thread-1] INFO net.maizegenetics.pipeline.TasselPipeline - net.maizegenetics.analysis.data.FileLoadPlugin: time: Sep 17, 2019 17:14:3: progress: 80%\n",
      "[pool-1-thread-1] INFO net.maizegenetics.pipeline.TasselPipeline - net.maizegenetics.analysis.data.FileLoadPlugin: time: Sep 17, 2019 17:14:3: progress: 90%\n",
      "[pool-1-thread-1] INFO net.maizegenetics.pipeline.TasselPipeline - net.maizegenetics.analysis.data.FileLoadPlugin: time: Sep 17, 2019 17:14:3: progress: 100%\n",
      "[pool-1-thread-1] INFO net.maizegenetics.plugindef.AbstractPlugin - net.maizegenetics.analysis.data.FileLoadPlugin  Citation: Bradbury PJ, Zhang Z, Kroon DE, Casstevens TM, Ramdoss Y, Buckler ES. (2007) TASSEL: Software for association mapping of complex traits in diverse samples. Bioinformatics 23:2633-2635.\n",
      "BuilderFromVCF data timing 12.8043s \n",
      "[pool-1-thread-1] INFO net.maizegenetics.analysis.data.FileLoadPlugin - Finished Loading File: /home/claudio/Comp_Genetics/A22.0P5UM_Results/A22.0P5UM_snps.vcf.gz time: Sep 17, 2019 17:14:4\n",
      "Genotype Table Name: A22\n",
      "Number of Taxa: 261\n",
      "Number of Sites: 648562\n",
      "Sites x Taxa: 169274682\n",
      "Chromosomes...\n",
      "NC_000913.3: start site: 0 (64) last site: 648561 (4641622) total: 648562\n",
      "\n",
      "[pool-1-thread-1] INFO net.maizegenetics.plugindef.AbstractPlugin - Finished net.maizegenetics.analysis.data.FileLoadPlugin: time: Sep 17, 2019 17:14:4\n",
      "[pool-1-thread-1] INFO net.maizegenetics.plugindef.AbstractPlugin - Starting net.maizegenetics.analysis.tree.CreateTreePlugin: time: Sep 17, 2019 17:14:4\n",
      "[pool-1-thread-1] INFO net.maizegenetics.plugindef.AbstractPlugin - \n",
      "CreateTreePlugin Parameters\n",
      "clusteringMethod: Neighbor_Joining\n",
      "saveDistanceMatrix: true\n",
      "\n",
      "[ForkJoinPool.commonPool-worker-14] INFO net.maizegenetics.pipeline.TasselPipeline - net.maizegenetics.analysis.tree.CreateTreePlugin: time: Sep 17, 2019 17:14:4: progress: 0%\n",
      "[ForkJoinPool.commonPool-worker-8] INFO net.maizegenetics.pipeline.TasselPipeline - net.maizegenetics.analysis.tree.CreateTreePlugin: time: Sep 17, 2019 17:14:5: progress: 12%\n",
      "[pool-1-thread-1] INFO net.maizegenetics.pipeline.TasselPipeline - net.maizegenetics.analysis.tree.CreateTreePlugin: time: Sep 17, 2019 17:14:5: progress: 22%\n",
      "[ForkJoinPool.commonPool-worker-20] INFO net.maizegenetics.pipeline.TasselPipeline - net.maizegenetics.analysis.tree.CreateTreePlugin: time: Sep 17, 2019 17:14:5: progress: 32%\n",
      "[ForkJoinPool.commonPool-worker-11] INFO net.maizegenetics.pipeline.TasselPipeline - net.maizegenetics.analysis.tree.CreateTreePlugin: time: Sep 17, 2019 17:14:5: progress: 41%\n",
      "[ForkJoinPool.commonPool-worker-28] INFO net.maizegenetics.pipeline.TasselPipeline - net.maizegenetics.analysis.tree.CreateTreePlugin: time: Sep 17, 2019 17:14:5: progress: 51%\n"
     ]
    },
    {
     "name": "stdout",
     "output_type": "stream",
     "text": [
      "[ForkJoinPool.commonPool-worker-25] INFO net.maizegenetics.pipeline.TasselPipeline - net.maizegenetics.analysis.tree.CreateTreePlugin: time: Sep 17, 2019 17:14:5: progress: 61%\n",
      "[ForkJoinPool.commonPool-worker-12] INFO net.maizegenetics.pipeline.TasselPipeline - net.maizegenetics.analysis.tree.CreateTreePlugin: time: Sep 17, 2019 17:14:5: progress: 70%\n",
      "[ForkJoinPool.commonPool-worker-17] INFO net.maizegenetics.pipeline.TasselPipeline - net.maizegenetics.analysis.tree.CreateTreePlugin: time: Sep 17, 2019 17:14:5: progress: 80%\n",
      "[ForkJoinPool.commonPool-worker-24] INFO net.maizegenetics.pipeline.TasselPipeline - net.maizegenetics.analysis.tree.CreateTreePlugin: time: Sep 17, 2019 17:14:5: progress: 90%\n",
      "[ForkJoinPool.commonPool-worker-23] INFO net.maizegenetics.pipeline.TasselPipeline - net.maizegenetics.analysis.tree.CreateTreePlugin: time: Sep 17, 2019 17:14:5: progress: 100%\n",
      "[pool-1-thread-1] INFO net.maizegenetics.analysis.distance.IBSDistanceMatrix3Alleles - IBSDistanceMatrix3Alleles: computeHetBitDistances time = 0 seconds\n",
      "[pool-1-thread-1] INFO net.maizegenetics.plugindef.AbstractPlugin - Finished net.maizegenetics.analysis.tree.CreateTreePlugin: time: Sep 17, 2019 17:14:5\n",
      "[pool-1-thread-1] INFO net.maizegenetics.plugindef.AbstractPlugin - Starting net.maizegenetics.analysis.data.ExportPlugin: time: Sep 17, 2019 17:14:5\n",
      "[pool-1-thread-1] INFO net.maizegenetics.plugindef.AbstractPlugin - \n",
      "ExportPlugin Parameters\n",
      "saveAs: hello_there1\n",
      "format: Square Matrix\n",
      "keepDepth: true\n",
      "includeTaxaAnnotations: true\n",
      "\n",
      "[pool-1-thread-1] INFO net.maizegenetics.analysis.data.ExportPlugin - performFunction: wrote dataset: Tree:A22 to file: hello_there1.txt\n",
      "[pool-1-thread-1] INFO net.maizegenetics.plugindef.AbstractPlugin - Finished net.maizegenetics.analysis.data.ExportPlugin: time: Sep 17, 2019 17:14:5\n",
      "[pool-1-thread-1] INFO net.maizegenetics.plugindef.AbstractPlugin - Starting net.maizegenetics.analysis.data.ExportPlugin: time: Sep 17, 2019 17:14:5\n",
      "[pool-1-thread-1] INFO net.maizegenetics.plugindef.AbstractPlugin - \n",
      "ExportPlugin Parameters\n",
      "saveAs: hello_there2\n",
      "format: Square Matrix\n",
      "keepDepth: true\n",
      "includeTaxaAnnotations: true\n",
      "\n",
      "[pool-1-thread-1] INFO net.maizegenetics.analysis.data.ExportPlugin - performFunction: wrote dataset: Matrix:A22 to file: hello_there2.txt\n",
      "[pool-1-thread-1] INFO net.maizegenetics.plugindef.AbstractPlugin - Finished net.maizegenetics.analysis.data.ExportPlugin: time: Sep 17, 2019 17:14:5\n"
     ]
    }
   ],
   "source": [
    "!bcftools view -S /home/claudio/Comp_Genetics/{condition}_Results/{condition}_Filter_Tree.tsv /home/claudio/Comp_Genetics/input/snps.vcf.gz > /home/claudio/Comp_Genetics/{condition}_Results/{condition}_snps.vcf\n",
    "!bgzip -c /home/claudio/Comp_Genetics/{condition}_Results/{condition}_snps.vcf > /home/claudio/Comp_Genetics/{condition}_Results/{condition}_snps.vcf.gz\n",
    "!/home/claudio/Comp_Genetics/tassel-5-standalone/run_pipeline.pl -Xms512m -Xmx10g -importGuess /home/claudio/Comp_Genetics/{condition}_Results/{condition}_snps.vcf.gz -CreateTreePlugin -clusteringMethod Neighbor_Joining -endPlugin -export hello_there -exportType SqrMatrix\n",
    "!rm /home/claudio/Comp_Genetics/scripts/hello_there1.txt\n",
    "!mv /home/claudio/Comp_Genetics/scripts/hello_there2.txt /home/claudio/Comp_Genetics/{condition}_Results/{condition}_Distance_Matrix.tsv\n",
    "!tail -n +6 /home/claudio/Comp_Genetics/{condition}_Results/{condition}_Distance_Matrix.tsv > /home/claudio/Comp_Genetics/{condition}_Results/{condition}_Distance_Matrix_2.tsv\n",
    "!mv /home/claudio/Comp_Genetics/{condition}_Results/{condition}_Distance_Matrix_2.tsv /home/claudio/Comp_Genetics/{condition}_Results/{condition}_Distance_Matrix.tsv"
   ]
  },
  {
   "cell_type": "code",
   "execution_count": 14,
   "metadata": {},
   "outputs": [],
   "source": [
    "distance_matrix = pd.read_csv('/home/claudio/Comp_Genetics/{0}_Results/{0}_Distance_Matrix.tsv'.format(condition), sep = '\\t', header = None)"
   ]
  },
  {
   "cell_type": "code",
   "execution_count": 15,
   "metadata": {},
   "outputs": [],
   "source": [
    "substitute = list(distance_matrix[0])\n",
    "substitute.insert(0, 'samples')"
   ]
  },
  {
   "cell_type": "code",
   "execution_count": 16,
   "metadata": {},
   "outputs": [],
   "source": [
    "distance_matrix.columns = substitute"
   ]
  },
  {
   "cell_type": "code",
   "execution_count": 17,
   "metadata": {},
   "outputs": [],
   "source": [
    "distance_matrix.to_csv('/home/claudio/Comp_Genetics/{0}_Results/{0}_Distance_Matrix.tsv'.format(condition), sep = '\\t', index = None)"
   ]
  },
  {
   "cell_type": "code",
   "execution_count": 18,
   "metadata": {},
   "outputs": [
    {
     "data": {
      "text/plain": [
       "0"
      ]
     },
     "execution_count": 18,
     "metadata": {},
     "output_type": "execute_result"
    }
   ],
   "source": [
    "subprocess.call ([\"Rscript\", \"--vanilla\", \"/home/claudio/Comp_Genetics/scripts/13_Tree_from_matrix.R\", condition])"
   ]
  },
  {
   "cell_type": "code",
   "execution_count": 41,
   "metadata": {},
   "outputs": [
    {
     "ename": "KeyboardInterrupt",
     "evalue": "",
     "output_type": "error",
     "traceback": [
      "\u001b[0;31m---------------------------------------------------------------------------\u001b[0m",
      "\u001b[0;31mKeyboardInterrupt\u001b[0m                         Traceback (most recent call last)",
      "\u001b[0;32m<ipython-input-41-e86901494998>\u001b[0m in \u001b[0;36m<module>\u001b[0;34m\u001b[0m\n\u001b[0;32m----> 1\u001b[0;31m \u001b[0msubprocess\u001b[0m\u001b[0;34m.\u001b[0m\u001b[0mcall\u001b[0m \u001b[0;34m(\u001b[0m\u001b[0;34m[\u001b[0m\u001b[0;34m\"nohup\"\u001b[0m\u001b[0;34m,\u001b[0m\u001b[0;34m\"Rscript\"\u001b[0m\u001b[0;34m,\u001b[0m \u001b[0;34m\"--vanilla\"\u001b[0m\u001b[0;34m,\u001b[0m \u001b[0;34m\"/home/claudio/Comp_Genetics/scripts/14_General_LinLoc.R\"\u001b[0m\u001b[0;34m,\u001b[0m \u001b[0mcondition\u001b[0m\u001b[0;34m,\u001b[0m \u001b[0;34m\">\"\u001b[0m\u001b[0;34m,\u001b[0m \u001b[0;34m\"/home/claudio/Comp_Genetics/{0}_Results/Rout.out\"\u001b[0m\u001b[0;34m.\u001b[0m\u001b[0mformat\u001b[0m\u001b[0;34m(\u001b[0m\u001b[0mcondition\u001b[0m\u001b[0;34m)\u001b[0m\u001b[0;34m,\u001b[0m \u001b[0;34m\"&\"\u001b[0m\u001b[0;34m]\u001b[0m\u001b[0;34m)\u001b[0m\u001b[0;34m\u001b[0m\u001b[0;34m\u001b[0m\u001b[0m\n\u001b[0m",
      "\u001b[0;32m~/miniconda3/lib/python3.7/subprocess.py\u001b[0m in \u001b[0;36mcall\u001b[0;34m(timeout, *popenargs, **kwargs)\u001b[0m\n\u001b[1;32m    323\u001b[0m     \u001b[0;32mwith\u001b[0m \u001b[0mPopen\u001b[0m\u001b[0;34m(\u001b[0m\u001b[0;34m*\u001b[0m\u001b[0mpopenargs\u001b[0m\u001b[0;34m,\u001b[0m \u001b[0;34m**\u001b[0m\u001b[0mkwargs\u001b[0m\u001b[0;34m)\u001b[0m \u001b[0;32mas\u001b[0m \u001b[0mp\u001b[0m\u001b[0;34m:\u001b[0m\u001b[0;34m\u001b[0m\u001b[0;34m\u001b[0m\u001b[0m\n\u001b[1;32m    324\u001b[0m         \u001b[0;32mtry\u001b[0m\u001b[0;34m:\u001b[0m\u001b[0;34m\u001b[0m\u001b[0;34m\u001b[0m\u001b[0m\n\u001b[0;32m--> 325\u001b[0;31m             \u001b[0;32mreturn\u001b[0m \u001b[0mp\u001b[0m\u001b[0;34m.\u001b[0m\u001b[0mwait\u001b[0m\u001b[0;34m(\u001b[0m\u001b[0mtimeout\u001b[0m\u001b[0;34m=\u001b[0m\u001b[0mtimeout\u001b[0m\u001b[0;34m)\u001b[0m\u001b[0;34m\u001b[0m\u001b[0;34m\u001b[0m\u001b[0m\n\u001b[0m\u001b[1;32m    326\u001b[0m         \u001b[0;32mexcept\u001b[0m\u001b[0;34m:\u001b[0m  \u001b[0;31m# Including KeyboardInterrupt, wait handled that.\u001b[0m\u001b[0;34m\u001b[0m\u001b[0;34m\u001b[0m\u001b[0m\n\u001b[1;32m    327\u001b[0m             \u001b[0mp\u001b[0m\u001b[0;34m.\u001b[0m\u001b[0mkill\u001b[0m\u001b[0;34m(\u001b[0m\u001b[0;34m)\u001b[0m\u001b[0;34m\u001b[0m\u001b[0;34m\u001b[0m\u001b[0m\n",
      "\u001b[0;32m~/miniconda3/lib/python3.7/subprocess.py\u001b[0m in \u001b[0;36mwait\u001b[0;34m(self, timeout)\u001b[0m\n\u001b[1;32m    988\u001b[0m             \u001b[0mendtime\u001b[0m \u001b[0;34m=\u001b[0m \u001b[0m_time\u001b[0m\u001b[0;34m(\u001b[0m\u001b[0;34m)\u001b[0m \u001b[0;34m+\u001b[0m \u001b[0mtimeout\u001b[0m\u001b[0;34m\u001b[0m\u001b[0;34m\u001b[0m\u001b[0m\n\u001b[1;32m    989\u001b[0m         \u001b[0;32mtry\u001b[0m\u001b[0;34m:\u001b[0m\u001b[0;34m\u001b[0m\u001b[0;34m\u001b[0m\u001b[0m\n\u001b[0;32m--> 990\u001b[0;31m             \u001b[0;32mreturn\u001b[0m \u001b[0mself\u001b[0m\u001b[0;34m.\u001b[0m\u001b[0m_wait\u001b[0m\u001b[0;34m(\u001b[0m\u001b[0mtimeout\u001b[0m\u001b[0;34m=\u001b[0m\u001b[0mtimeout\u001b[0m\u001b[0;34m)\u001b[0m\u001b[0;34m\u001b[0m\u001b[0;34m\u001b[0m\u001b[0m\n\u001b[0m\u001b[1;32m    991\u001b[0m         \u001b[0;32mexcept\u001b[0m \u001b[0mKeyboardInterrupt\u001b[0m\u001b[0;34m:\u001b[0m\u001b[0;34m\u001b[0m\u001b[0;34m\u001b[0m\u001b[0m\n\u001b[1;32m    992\u001b[0m             \u001b[0;31m# https://bugs.python.org/issue25942\u001b[0m\u001b[0;34m\u001b[0m\u001b[0;34m\u001b[0m\u001b[0;34m\u001b[0m\u001b[0m\n",
      "\u001b[0;32m~/miniconda3/lib/python3.7/subprocess.py\u001b[0m in \u001b[0;36m_wait\u001b[0;34m(self, timeout)\u001b[0m\n\u001b[1;32m   1622\u001b[0m                         \u001b[0;32mif\u001b[0m \u001b[0mself\u001b[0m\u001b[0;34m.\u001b[0m\u001b[0mreturncode\u001b[0m \u001b[0;32mis\u001b[0m \u001b[0;32mnot\u001b[0m \u001b[0;32mNone\u001b[0m\u001b[0;34m:\u001b[0m\u001b[0;34m\u001b[0m\u001b[0;34m\u001b[0m\u001b[0m\n\u001b[1;32m   1623\u001b[0m                             \u001b[0;32mbreak\u001b[0m  \u001b[0;31m# Another thread waited.\u001b[0m\u001b[0;34m\u001b[0m\u001b[0;34m\u001b[0m\u001b[0m\n\u001b[0;32m-> 1624\u001b[0;31m                         \u001b[0;34m(\u001b[0m\u001b[0mpid\u001b[0m\u001b[0;34m,\u001b[0m \u001b[0msts\u001b[0m\u001b[0;34m)\u001b[0m \u001b[0;34m=\u001b[0m \u001b[0mself\u001b[0m\u001b[0;34m.\u001b[0m\u001b[0m_try_wait\u001b[0m\u001b[0;34m(\u001b[0m\u001b[0;36m0\u001b[0m\u001b[0;34m)\u001b[0m\u001b[0;34m\u001b[0m\u001b[0;34m\u001b[0m\u001b[0m\n\u001b[0m\u001b[1;32m   1625\u001b[0m                         \u001b[0;31m# Check the pid and loop as waitpid has been known to\u001b[0m\u001b[0;34m\u001b[0m\u001b[0;34m\u001b[0m\u001b[0;34m\u001b[0m\u001b[0m\n\u001b[1;32m   1626\u001b[0m                         \u001b[0;31m# return 0 even without WNOHANG in odd situations.\u001b[0m\u001b[0;34m\u001b[0m\u001b[0;34m\u001b[0m\u001b[0;34m\u001b[0m\u001b[0m\n",
      "\u001b[0;32m~/miniconda3/lib/python3.7/subprocess.py\u001b[0m in \u001b[0;36m_try_wait\u001b[0;34m(self, wait_flags)\u001b[0m\n\u001b[1;32m   1580\u001b[0m             \u001b[0;34m\"\"\"All callers to this function MUST hold self._waitpid_lock.\"\"\"\u001b[0m\u001b[0;34m\u001b[0m\u001b[0;34m\u001b[0m\u001b[0m\n\u001b[1;32m   1581\u001b[0m             \u001b[0;32mtry\u001b[0m\u001b[0;34m:\u001b[0m\u001b[0;34m\u001b[0m\u001b[0;34m\u001b[0m\u001b[0m\n\u001b[0;32m-> 1582\u001b[0;31m                 \u001b[0;34m(\u001b[0m\u001b[0mpid\u001b[0m\u001b[0;34m,\u001b[0m \u001b[0msts\u001b[0m\u001b[0;34m)\u001b[0m \u001b[0;34m=\u001b[0m \u001b[0mos\u001b[0m\u001b[0;34m.\u001b[0m\u001b[0mwaitpid\u001b[0m\u001b[0;34m(\u001b[0m\u001b[0mself\u001b[0m\u001b[0;34m.\u001b[0m\u001b[0mpid\u001b[0m\u001b[0;34m,\u001b[0m \u001b[0mwait_flags\u001b[0m\u001b[0;34m)\u001b[0m\u001b[0;34m\u001b[0m\u001b[0;34m\u001b[0m\u001b[0m\n\u001b[0m\u001b[1;32m   1583\u001b[0m             \u001b[0;32mexcept\u001b[0m \u001b[0mChildProcessError\u001b[0m\u001b[0;34m:\u001b[0m\u001b[0;34m\u001b[0m\u001b[0;34m\u001b[0m\u001b[0m\n\u001b[1;32m   1584\u001b[0m                 \u001b[0;31m# This happens if SIGCLD is set to be ignored or waiting\u001b[0m\u001b[0;34m\u001b[0m\u001b[0;34m\u001b[0m\u001b[0;34m\u001b[0m\u001b[0m\n",
      "\u001b[0;31mKeyboardInterrupt\u001b[0m: "
     ]
    }
   ],
   "source": [
    "subprocess.call ([\"nohup\",\"Rscript\", \"--vanilla\", \"/home/claudio/Comp_Genetics/scripts/14_General_LinLoc.R\", condition, \">\", \"/home/claudio/Comp_Genetics/{0}_Results/Rout.out\".format(condition), \"&\"])"
   ]
  },
  {
   "cell_type": "code",
   "execution_count": null,
   "metadata": {},
   "outputs": [],
   "source": []
  }
 ],
 "metadata": {
  "kernelspec": {
   "display_name": "Python 3",
   "language": "python",
   "name": "python3"
  },
  "language_info": {
   "codemirror_mode": {
    "name": "ipython",
    "version": 3
   },
   "file_extension": ".py",
   "mimetype": "text/x-python",
   "name": "python",
   "nbconvert_exporter": "python",
   "pygments_lexer": "ipython3",
   "version": "3.7.4"
  }
 },
 "nbformat": 4,
 "nbformat_minor": 2
}
