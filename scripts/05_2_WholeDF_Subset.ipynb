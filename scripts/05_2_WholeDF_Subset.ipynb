{
 "cells": [
  {
   "cell_type": "code",
   "execution_count": 1,
   "metadata": {},
   "outputs": [],
   "source": [
    "import pandas as pd"
   ]
  },
  {
   "cell_type": "code",
   "execution_count": 4,
   "metadata": {},
   "outputs": [],
   "source": [
    "phenotypes = pd.read_csv('/home/claudio/Comp_Genetics/results/bugwas_phenotypes_unique.tsv', sep ='\\t')\n",
    "genotypes = pd.read_csv('/home/claudio/Comp_Genetics/results/bugwas_genotypes.tsv', sep='\\t')\n",
    "frequencies = pd.read_csv('/home/claudio/Comp_Genetics/results/duplicate_samples.tsv', sep='\\t', header=None)\n",
    "orphans = pd.read_csv('/home/claudio/Comp_Genetics/results/nomatchingsamples.tsv', sep='\\t')"
   ]
  },
  {
   "cell_type": "markdown",
   "metadata": {},
   "source": [
    "Create list of only matching samples\n",
    "\n",
    "Orphan: a sample that exists in one file but not on the other"
   ]
  },
  {
   "cell_type": "code",
   "execution_count": 14,
   "metadata": {},
   "outputs": [
    {
     "data": {
      "text/plain": [
       "678"
      ]
     },
     "execution_count": 14,
     "metadata": {},
     "output_type": "execute_result"
    }
   ],
   "source": [
    "orphans_list = list(orphans.iloc[:,0])\n",
    "orphans_list_unique = list(dict.fromkeys(orphans_list))\n",
    "frequencies_2 = list(frequencies.sort_values(by=[1], ascending=False).iloc[:,0])\n",
    "all_matching_list = [sample for sample in frequencies_2 if sample not in orphans_list_unique]\n",
    "all_matching_list.insert(0, 'ps')"
   ]
  },
  {
   "cell_type": "markdown",
   "metadata": {},
   "source": [
    "Subset the original dataframes to exclude no matching samples"
   ]
  },
  {
   "cell_type": "code",
   "execution_count": 15,
   "metadata": {},
   "outputs": [],
   "source": [
    "subset_genotypes = genotypes[all_matching_list]\n",
    "# in case it needs to be ordered subset_genotypes = subset_genotypes.reindex(sorted(subset_genotypes.columns[1:]), axis=1)\n",
    "subset_genotypes.to_csv('/home/claudio/Comp_Genetics/results/Unique_all_genotypes.tsv', sep = '\\t', index = False)"
   ]
  },
  {
   "cell_type": "code",
   "execution_count": 18,
   "metadata": {},
   "outputs": [],
   "source": [
    "unique_phenotypes = phenotypes.drop_duplicates(subset=['ID'])\n",
    "subset_phenotypes = unique_phenotypes.loc[unique_phenotypes['ID'].isin(all_matching_list)]\n",
    "subset_phenotypes.to_csv('/home/claudio/Comp_Genetics/results/Unique_all_phenotypes.tsv', sep = '\\t', index = False)"
   ]
  },
  {
   "cell_type": "code",
   "execution_count": null,
   "metadata": {},
   "outputs": [],
   "source": []
  }
 ],
 "metadata": {
  "kernelspec": {
   "display_name": "Python 3",
   "language": "python",
   "name": "python3"
  },
  "language_info": {
   "codemirror_mode": {
    "name": "ipython",
    "version": 3
   },
   "file_extension": ".py",
   "mimetype": "text/x-python",
   "name": "python",
   "nbconvert_exporter": "python",
   "pygments_lexer": "ipython3",
   "version": "3.7.3"
  }
 },
 "nbformat": 4,
 "nbformat_minor": 2
}
