{
 "cells": [
  {
   "cell_type": "code",
   "execution_count": 33,
   "metadata": {},
   "outputs": [],
   "source": [
    "import pandas as pd\n",
    "import collections\n",
    "import matplotlib.pyplot as plt"
   ]
  },
  {
   "cell_type": "code",
   "execution_count": 35,
   "metadata": {},
   "outputs": [
    {
     "name": "stdout",
     "output_type": "stream",
     "text": [
      "Condition to test: A22.0P5UM\n"
     ]
    }
   ],
   "source": [
    "condition = input('Condition to test: ')"
   ]
  },
  {
   "cell_type": "code",
   "execution_count": 36,
   "metadata": {},
   "outputs": [],
   "source": [
    "all_phenotypes = pd.read_csv('/home/claudio/Comp_Genetics/results/bugwas_phenotypes.tsv', sep = '\\t')\n",
    "genotypes = pd.read_csv('/home/claudio/Comp_Genetics/raw_data/genotypes_noref_formatted.tsv', sep = '\\t')"
   ]
  },
  {
   "cell_type": "code",
   "execution_count": 65,
   "metadata": {},
   "outputs": [],
   "source": [
    "subset_phenotypes = all_phenotypes[all_phenotypes['pheno'].str.contains(condition)]\n",
    "genotypes_1 = genotypes.rename(columns={\"Unnamed: 0\":\"ps\"})"
   ]
  },
  {
   "cell_type": "code",
   "execution_count": 66,
   "metadata": {},
   "outputs": [],
   "source": [
    "ini_samples_genotypes = list(genotypes_1.columns.values[2:])\n",
    "ini_samples_phenotypes = list(subset_phenotypes.iloc[:,0])\n",
    "\n",
    "# Removing the reference sample from the phenotypes (aka NT12001)\n",
    "ini_samples_phenotypes = [sample for sample in ini_samples_phenotypes if sample != 'NT12001']"
   ]
  },
  {
   "cell_type": "code",
   "execution_count": 81,
   "metadata": {},
   "outputs": [],
   "source": [
    "# Which are the samples that do not match\n",
    "nomatch_samples = [sample for sample in ini_samples_phenotypes if sample not in ini_samples_genotypes]\n",
    "nomatch_samples = list(dict.fromkeys(nomatch_samples))\n",
    "    \n",
    "# Get rid of duplicates and nomatching samples on the phenotypes\n",
    "phenotypes_1 = subset_phenotypes.drop_duplicates(subset=['ID'])\n",
    "phenotypes_2 = phenotypes_1[~phenotypes_1['ID'].isin(nomatch_samples) & phenotypes_1['ID'].isin(ini_samples_phenotypes)] ## ~ = negation\n",
    "    \n",
    "# Get sample list to filter\n",
    "samples_phenotypes = list(phenotypes_2.iloc[:,0])\n",
    "samples_phenotypes.insert(0,'ps')\n",
    "    \n",
    "# Subset the genotype dataframe with the phenotype samples\n",
    "subset_genotypes = genotypes_1[samples_phenotypes]\n",
    "    \n",
    "# Remove invariant sites\n",
    "invariant_sites = []\n",
    "for i, k in subset_genotypes.iterrows():\n",
    "    if len(set(k[1:]))== 1:\n",
    "        invariant_sites.append(False)\n",
    "    else:\n",
    "        invariant_sites.append(True)\n",
    "subset_genotypes = subset_genotypes[invariant_sites]"
   ]
  },
  {
   "cell_type": "code",
   "execution_count": null,
   "metadata": {},
   "outputs": [],
   "source": [
    "!./run_pipeline.pl -Xms512m -Xmx10g -importGuess ../snps.vcf.gz -CreateTreePlugin -clusteringMethod Neighbor_Joining -endPlugin -export -exportType SqrMatrix"
   ]
  }
 ],
 "metadata": {
  "kernelspec": {
   "display_name": "Python 3",
   "language": "python",
   "name": "python3"
  },
  "language_info": {
   "codemirror_mode": {
    "name": "ipython",
    "version": 3
   },
   "file_extension": ".py",
   "mimetype": "text/x-python",
   "name": "python",
   "nbconvert_exporter": "python",
   "pygments_lexer": "ipython3",
   "version": "3.7.3"
  }
 },
 "nbformat": 4,
 "nbformat_minor": 2
}
