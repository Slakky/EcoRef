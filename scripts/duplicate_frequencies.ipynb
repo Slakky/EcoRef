{
 "cells": [
  {
   "cell_type": "code",
   "execution_count": 2,
   "metadata": {},
   "outputs": [],
   "source": [
    "import pandas as pd"
   ]
  },
  {
   "cell_type": "code",
   "execution_count": 33,
   "metadata": {},
   "outputs": [],
   "source": [
    "phenotypes = pd.read_csv('/Users/claudionovellarausell/Desktop/Comp_Genetics/raw_data/pheno.tsv', sep = '\\t')"
   ]
  },
  {
   "cell_type": "markdown",
   "metadata": {},
   "source": [
    "Extracting the sample names from the phenotypes and genotypes files"
   ]
  },
  {
   "cell_type": "code",
   "execution_count": 105,
   "metadata": {},
   "outputs": [],
   "source": [
    "samples_genotypes = list(genotypes.columns.values[2:])"
   ]
  },
  {
   "cell_type": "code",
   "execution_count": 93,
   "metadata": {},
   "outputs": [],
   "source": [
    "samples_phenotypes = list(phenotypes.iloc[:,1])"
   ]
  },
  {
   "cell_type": "markdown",
   "metadata": {},
   "source": [
    "Are all the samples in the genotypes file present in the phenotype file? Which ones?"
   ]
  },
  {
   "cell_type": "code",
   "execution_count": 113,
   "metadata": {},
   "outputs": [],
   "source": [
    "matching_samples = [sample for sample in samples_genotypes if sample in samples_phenotypes]\n",
    "nomatch_samples = [sample for sample in samples_genotypes if sample not in matching_samples]\n",
    "\n",
    "with open('nomatchingsamples.tsv', 'w') as fp:\n",
    "    fp.write('\\n'.join('{}'.format(sample) for sample in nomatch_samples))"
   ]
  },
  {
   "cell_type": "markdown",
   "metadata": {},
   "source": [
    "What are the duplicate frequencies in the phenotype file?"
   ]
  },
  {
   "cell_type": "code",
   "execution_count": 111,
   "metadata": {},
   "outputs": [],
   "source": [
    "import collections\n",
    "import matplotlib.pyplot as plt\n",
    "\n",
    "duplicate_frequencies = [(item,count) for item, count in collections.Counter(samples_phenotypes).items()]\n",
    "\n",
    "with open('duplicate_samples.tsv', 'w') as fp:\n",
    "    fp.write('\\n'.join('{}\\t{}'.format(element[0], element[1]) for element in duplicate_frequencies))"
   ]
  }
 ],
 "metadata": {
  "kernelspec": {
   "display_name": "Python 3",
   "language": "python",
   "name": "python3"
  },
  "language_info": {
   "codemirror_mode": {
    "name": "ipython",
    "version": 3
   },
   "file_extension": ".py",
   "mimetype": "text/x-python",
   "name": "python",
   "nbconvert_exporter": "python",
   "pygments_lexer": "ipython3",
   "version": "3.7.4"
  }
 },
 "nbformat": 4,
 "nbformat_minor": 2
}
