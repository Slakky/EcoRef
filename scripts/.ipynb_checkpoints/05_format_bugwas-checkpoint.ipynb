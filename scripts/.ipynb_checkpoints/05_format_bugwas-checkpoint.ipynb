{
 "cells": [
  {
   "cell_type": "code",
   "execution_count": 1,
   "metadata": {},
   "outputs": [],
   "source": [
    "import pandas as pd"
   ]
  },
  {
   "cell_type": "markdown",
   "metadata": {},
   "source": [
    "Formatting the genotype file so it has ps as the column name instead of X"
   ]
  },
  {
   "cell_type": "code",
   "execution_count": 18,
   "metadata": {},
   "outputs": [],
   "source": [
    "genotypes = pd.read_csv('/Users/claudionovellarausell/Desktop/Comp_Genetics/raw_data/genotypes_formatted.tsv', sep = '\\t')\n",
    "genotypes_2 = genotypes.drop(genotypes.columns[0], axis = 1).rename(columns={\"X\":\"ps\"})\n",
    "genotypes_2.to_csv('/Users/claudionovellarausell/Desktop/Comp_Genetics/results/bugwas_genotypes.tsv', sep = '\\t')"
   ]
  },
  {
   "cell_type": "markdown",
   "metadata": {},
   "source": [
    "Formatting the phenotype file so it doesnt contain useless columns which will likely cause trauble running bugwas"
   ]
  },
  {
   "cell_type": "code",
   "execution_count": 7,
   "metadata": {},
   "outputs": [
    {
     "name": "stdout",
     "output_type": "stream",
     "text": [
      "              ID                         pheno\n",
      "0       ATC14028        A22.0P5_0.461852853422\n",
      "1            LT2        A22.0P5_0.634868773782\n",
      "2        NT12001        A22.0P5_0.973035122476\n",
      "3        NT12002         A22.0P5_0.99304433225\n",
      "4        NT12003      A22.0P5_-0.0434960013433\n",
      "...          ...                           ...\n",
      "113999   NT12439  VANILLIN.200_-0.329957909637\n",
      "114000   NT12440  VANILLIN.200_-0.130597130122\n",
      "114001   NT12441    VANILLIN.200_1.57763377452\n",
      "114002   NT12442   VANILLIN.200_0.320387347404\n",
      "114003   NT12443   VANILLIN.200_0.273270360953\n",
      "\n",
      "[114004 rows x 2 columns]\n"
     ]
    }
   ],
   "source": [
    "phenotypes = pd.read_csv('/Users/claudionovellarausell/Desktop/Comp_Genetics/raw_data/phenotypes_formatted.tsv', sep = '\\t')\n",
    "phenotypes_2 = phenotypes.drop(phenotypes.columns[0], axis = 1)\n",
    "\n",
    "phenotypes_2.to_csv('/Users/claudionovellarausell/Desktop/Comp_Genetics/results/bugwas_phenotypes.tsv', sep = '\\t')"
   ]
  },
  {
   "cell_type": "code",
   "execution_count": null,
   "metadata": {},
   "outputs": [],
   "source": []
  },
  {
   "cell_type": "code",
   "execution_count": null,
   "metadata": {},
   "outputs": [],
   "source": []
  }
 ],
 "metadata": {
  "kernelspec": {
   "display_name": "Python 3",
   "language": "python",
   "name": "python3"
  },
  "language_info": {
   "codemirror_mode": {
    "name": "ipython",
    "version": 3
   },
   "file_extension": ".py",
   "mimetype": "text/x-python",
   "name": "python",
   "nbconvert_exporter": "python",
   "pygments_lexer": "ipython3",
   "version": "3.7.4"
  }
 },
 "nbformat": 4,
 "nbformat_minor": 2
}
