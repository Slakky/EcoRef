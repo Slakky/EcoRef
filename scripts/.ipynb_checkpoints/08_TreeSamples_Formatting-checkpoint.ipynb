{
 "cells": [
  {
   "cell_type": "code",
   "execution_count": 3,
   "metadata": {},
   "outputs": [],
   "source": [
    "import pandas as pd"
   ]
  },
  {
   "cell_type": "code",
   "execution_count": 4,
   "metadata": {},
   "outputs": [],
   "source": [
    "genotypes = pd.read_csv('/home/claudio/Comp_Genetics/raw_data/genotypes_ref_formatted.tsv', sep = '\\t')\n",
    "phenotypes = pd.read_csv('/home/claudio/Comp_Genetics/raw_data/phenotypes_formatted.tsv', sep = '\\t')"
   ]
  },
  {
   "cell_type": "code",
   "execution_count": 5,
   "metadata": {},
   "outputs": [],
   "source": [
    "samples_genotypes = list(genotypes.columns.values[2:])\n",
    "samples_genotypes.sort()\n",
    "samples_phenotypes = list(phenotypes.iloc[:,1])\n",
    "nomatch_samples = [sample for sample in samples_phenotypes if sample not in samples_genotypes]\n",
    "nomatch_samples = list(dict.fromkeys(nomatch_samples))\n",
    "with open('nomatchingsamples_ref.tsv', 'w') as fp:\n",
    "    fp.write('\\n'.join('{}'.format(sample) for sample in nomatch_samples))"
   ]
  },
  {
   "cell_type": "code",
   "execution_count": 6,
   "metadata": {},
   "outputs": [],
   "source": [
    "import collections\n",
    "import matplotlib.pyplot as plt\n",
    "\n",
    "duplicate_frequencies = [(item,count) for item, count in collections.Counter(samples_phenotypes).items()]\n",
    "\n",
    "with open('duplicate_samples_ref.tsv', 'w') as fp:\n",
    "    fp.write('\\n'.join('{}\\t{}'.format(element[0], element[1]) for element in duplicate_frequencies))"
   ]
  },
  {
   "cell_type": "code",
   "execution_count": 48,
   "metadata": {},
   "outputs": [],
   "source": [
    "phenotypes_2 = phenotypes.drop(phenotypes.columns[0], axis = 1)\n",
    "# ~ = negation   \n",
    "\n",
    "## I'm not filtering yet, since I will filter at the end by the samples in the tree file\n",
    "\n",
    "#phenotypes_3 = phenotypes_2[~phenotypes_2['ID'].isin(nomatch_samples)]\n",
    "#phenotypes_3.to_csv('/home/claudio/Comp_Genetics/results/bugwas_phenotypes_unique_ref.tsv', sep = '\\t', index =False)"
   ]
  },
  {
   "cell_type": "code",
   "execution_count": 42,
   "metadata": {},
   "outputs": [],
   "source": [
    "genotypes_2 = genotypes.drop(genotypes.columns[0], axis = 1).rename(columns={\"X\":\"ps\"})\n",
    "genotypes_2.to_csv('/home/claudio/Comp_Genetics/results/bugwas_genotypes_ref.tsv', sep = '\\t', index = False)"
   ]
  },
  {
   "cell_type": "code",
   "execution_count": 10,
   "metadata": {},
   "outputs": [],
   "source": [
    "## I'm not filtering yet, since I will filter at the end by the samples in the tree file\n",
    "\n",
    "\n",
    "#frequencies = pd.read_csv('/home/claudio/Comp_Genetics/results/duplicate_samples_ref.tsv', sep='\\t', header=None)\n",
    "#orphans = pd.read_csv('/home/claudio/Comp_Genetics/results/nomatchingsamples_ref.tsv', sep='\\t', header=None)\n",
    "#orphans_list = list(orphans.iloc[:,0])\n",
    "#orphans_list_unique = list(dict.fromkeys(orphans_list))\n",
    "#frequencies_2 = list(frequencies.sort_values(by=[1], ascending=False).iloc[:,0])\n",
    "#all_matching_list = [sample for sample in frequencies_2 if sample not in orphans_list_unique]\n",
    "#all_matching_list.insert(0, 'ps')"
   ]
  },
  {
   "cell_type": "code",
   "execution_count": 11,
   "metadata": {},
   "outputs": [],
   "source": [
    "## I'm not filtering yet, since I will filter at the end by the samples in the tree file\n",
    "\n",
    "\n",
    "#subset_genotypes = genotypes_2[all_matching_list]\n",
    "#subset_genotypes.to_csv('/home/claudio/Comp_Genetics/results/Unique_all_genotypes_ref.tsv', sep = '\\t', index = False)\n",
    "#unique_phenotypes = phenotypes_3.drop_duplicates(subset=['ID'])\n",
    "#subset_phenotypes = unique_phenotypes.loc[unique_phenotypes['ID'].isin(all_matching_list)]\n",
    "#subset_phenotypes.to_csv('/home/claudio/Comp_Genetics/results/Unique_all_phenotypes_ref.tsv', sep = '\\t', index = False)"
   ]
  },
  {
   "cell_type": "code",
   "execution_count": 35,
   "metadata": {},
   "outputs": [],
   "source": [
    "invariant_sites = []\n",
    "for i, k in genotypes_2.iterrows():\n",
    "    if len(set(k[1:]))== 1:\n",
    "        invariant_sites.append(False)\n",
    "    else:\n",
    "        invariant_sites.append(True)"
   ]
  },
  {
   "cell_type": "code",
   "execution_count": 36,
   "metadata": {},
   "outputs": [],
   "source": [
    "genotypes_onlyvariants = genotypes_2[invariant_sites]\n",
    "genotypes_onlyvariants.to_csv('/home/claudio/Comp_Genetics/results/Onlyvariants_all_genotypes_ref.tsv', sep = '\\t', index = False)"
   ]
  },
  {
   "cell_type": "code",
   "execution_count": 37,
   "metadata": {},
   "outputs": [],
   "source": [
    "tree = pd.read_csv('/home/claudio/Comp_Genetics/raw_data/tree_ref_corrected.nwk', sep = ',')"
   ]
  },
  {
   "cell_type": "code",
   "execution_count": 38,
   "metadata": {},
   "outputs": [],
   "source": [
    "import re\n",
    "sample_list = list(tree.columns)\n",
    "samples_list = [re.sub('[^A-Za-z0-9]+','',sample.split(\":\")[0]) for sample in sample_list]"
   ]
  },
  {
   "cell_type": "code",
   "execution_count": 49,
   "metadata": {},
   "outputs": [],
   "source": [
    "genotypes_onlyvariants_treematch = genotypes_onlyvariants[samples_list]\n",
    "genotypes_onlyvariants_treematch.to_csv('/home/claudio/Comp_Genetics/results/Genotypes_Def_Ref.tsv', sep='\\t', index = False)\n",
    "phenotypes_3 = phenotypes_2.drop_duplicates(subset=['ID'])\n",
    "phenotypes_treematch = phenotypes_3.loc[phenotypes_3['ID'].isin(samples_list)]\n",
    "phenotypes_treematch.to_csv('/home/claudio/Comp_Genetics/results/Phenotypes_Def_Ref.tsv', sep='\\t', index = False)"
   ]
  }
 ],
 "metadata": {
  "kernelspec": {
   "display_name": "Python 3",
   "language": "python",
   "name": "python3"
  },
  "language_info": {
   "codemirror_mode": {
    "name": "ipython",
    "version": 3
   },
   "file_extension": ".py",
   "mimetype": "text/x-python",
   "name": "python",
   "nbconvert_exporter": "python",
   "pygments_lexer": "ipython3",
   "version": "3.7.3"
  }
 },
 "nbformat": 4,
 "nbformat_minor": 2
}
