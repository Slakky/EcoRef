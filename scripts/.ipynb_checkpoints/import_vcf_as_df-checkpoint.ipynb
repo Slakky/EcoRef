{
 "cells": [
  {
   "cell_type": "code",
   "execution_count": null,
   "metadata": {},
   "outputs": [],
   "source": [
    "#def import_vcf_as_gt_array(f, threads=1): returnnp.array([variant.gt_types for variant in VCF(f,threads=threads, gts012=True) ])\n",
    "def import_vcf_as_DataFrame(input_vcf, threads=1):\n",
    "    \"\"\"imports the vcf as a nxm array of 0s and 1s\"\"\"\n",
    "    def transform_bases(gt_bases):\n",
    "        \"\"\"transforms bases. necessary due \"\"\"\n",
    "        d = {\".\":0, \"G\":1,\"A\":1,\"T\":1,\"C\":1}\n",
    "        new_list = [d[i] for i in gt_bases]\n",
    "        return new_list      \n",
    "    \n",
    "    vcf = VCF(input_vcf,threads=threads, gts012=True)\n",
    "    gt_list = []\n",
    "    snp_pos = []\n",
    "    for variant in vcf:\n",
    "        \n",
    "        if not len(variant.ALT)>=2:    # exclude multiallelic snps\n",
    "            gt_list.append(transform_bases(variant.gt_bases))\n",
    "            snp_pos.append(str(variant.POS))\n",
    "            \n",
    "    gt_pd = pd.DataFrame(gt_list)\n",
    "    gt_pd.index= snp_pos\n",
    "    gt_pd.columns= vcf.samples\n",
    "    return gt_pd"
   ]
  }
 ],
 "metadata": {
  "kernelspec": {
   "display_name": "Python 3",
   "language": "python",
   "name": "python3"
  },
  "language_info": {
   "codemirror_mode": {
    "name": "ipython",
    "version": 3
   },
   "file_extension": ".py",
   "mimetype": "text/x-python",
   "name": "python",
   "nbconvert_exporter": "python",
   "pygments_lexer": "ipython3",
   "version": "3.7.0"
  }
 },
 "nbformat": 4,
 "nbformat_minor": 2
}
