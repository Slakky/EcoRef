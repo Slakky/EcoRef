{
 "cells": [
  {
   "cell_type": "code",
   "execution_count": 1,
   "metadata": {},
   "outputs": [],
   "source": [
    "import pandas as pd"
   ]
  },
  {
   "cell_type": "markdown",
   "metadata": {},
   "source": [
    "First, extract the sample list from the tree file"
   ]
  },
  {
   "cell_type": "code",
   "execution_count": 3,
   "metadata": {},
   "outputs": [],
   "source": [
    "tree = pd.read_csv('/home/claudio/Comp_Genetics/raw_data/tree_ref_corrected.nwk', sep = ',')"
   ]
  },
  {
   "cell_type": "code",
   "execution_count": 11,
   "metadata": {},
   "outputs": [],
   "source": [
    "import re\n",
    "sample_list = list(tree.columns)\n",
    "samples_list = [re.sub('[^A-Za-z0-9]+','',sample.split(\"_\")[0]) for sample in sample_list]"
   ]
  },
  {
   "cell_type": "markdown",
   "metadata": {},
   "source": [
    "Second, subset phenotype and genotype dataframes with the samples_list condition"
   ]
  },
  {
   "cell_type": "code",
   "execution_count": 12,
   "metadata": {},
   "outputs": [],
   "source": [
    "phenotypes = pd.read_csv('/home/claudio/Comp_Genetics/results/bugwas_phenotypes_unique.tsv', sep ='\\t')\n",
    "genotypes = pd.read_csv('/home/claudio/Comp_Genetics/results/bugwas_genotypes.tsv', sep='\\t')"
   ]
  },
  {
   "cell_type": "code",
   "execution_count": 16,
   "metadata": {},
   "outputs": [],
   "source": [
    "subset_genotypes = genotypes[no_fastaref]\n",
    "# in case it needs to be ordered subset_genotypes = subset_genotypes.reindex(sorted(subset_genotypes.columns[1:]), axis=1)\n",
    "subset_genotypes.to_csv('/home/claudio/Comp_Genetics/results/Unique_all_genotypes_treematch.tsv', sep = '\\t', index = False)"
   ]
  },
  {
   "cell_type": "code",
   "execution_count": 17,
   "metadata": {},
   "outputs": [],
   "source": [
    "unique_phenotypes = phenotypes.drop_duplicates(subset=['ID'])\n",
    "subset_phenotypes = unique_phenotypes.loc[unique_phenotypes['ID'].isin(no_fastaref)]\n",
    "subset_phenotypes.to_csv('/home/claudio/Comp_Genetics/results/Unique_all_phenotypes_treematch.tsv', sep = '\\t', index = False)"
   ]
  },
  {
   "cell_type": "code",
   "execution_count": null,
   "metadata": {},
   "outputs": [],
   "source": []
  }
 ],
 "metadata": {
  "kernelspec": {
   "display_name": "Python 3",
   "language": "python",
   "name": "python3"
  },
  "language_info": {
   "codemirror_mode": {
    "name": "ipython",
    "version": 3
   },
   "file_extension": ".py",
   "mimetype": "text/x-python",
   "name": "python",
   "nbconvert_exporter": "python",
   "pygments_lexer": "ipython3",
   "version": "3.7.3"
  }
 },
 "nbformat": 4,
 "nbformat_minor": 2
}
