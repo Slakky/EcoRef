{
 "cells": [
  {
   "cell_type": "code",
   "execution_count": 1,
   "metadata": {},
   "outputs": [],
   "source": [
    "import pandas as pd"
   ]
  },
  {
   "cell_type": "markdown",
   "metadata": {},
   "source": [
    "Formatting the genotype file so it has ps as the column name instead of X"
   ]
  },
  {
   "cell_type": "code",
   "execution_count": 13,
   "metadata": {},
   "outputs": [],
   "source": [
    "genotypes = pd.read_csv('/Users/claudionovellarausell/Desktop/Comp_Genetics/raw_data/genotypes_formatted.tsv', sep = '\\t')\n",
    "genotypes_2 = genotypes.drop(genotypes.columns[0], axis = 1).rename(columns={\"X\":\"ps\"})\n",
    "genotypes_2.to_csv('/Users/claudionovellarausell/Desktop/Comp_Genetics/results/bugwas_genotypes.tsv', sep = '\\t')"
   ]
  },
  {
   "cell_type": "markdown",
   "metadata": {},
   "source": [
    "Formatting the phenotype file so it doesnt contain useless columns which will likely cause trauble running bugwas"
   ]
  },
  {
   "cell_type": "code",
   "execution_count": 16,
   "metadata": {},
   "outputs": [],
   "source": [
    "phenotypes = pd.read_csv('/Users/claudionovellarausell/Desktop/Comp_Genetics/raw_data/phenotypes_formatted.tsv', sep = '\\t')\n",
    "phenotypes_2 = phenotypes.drop(phenotypes.columns[0], axis = 1)\n",
    "phenotypes_2.to_csv('/Users/claudionovellarausell/Desktop/Comp_Genetics/results/bugwas_phenotypes.tsv', sep = '\\t')"
   ]
  },
  {
   "cell_type": "code",
   "execution_count": null,
   "metadata": {},
   "outputs": [],
   "source": []
  }
 ],
 "metadata": {
  "kernelspec": {
   "display_name": "Python 3",
   "language": "python",
   "name": "python3"
  },
  "language_info": {
   "codemirror_mode": {
    "name": "ipython",
    "version": 3
   },
   "file_extension": ".py",
   "mimetype": "text/x-python",
   "name": "python",
   "nbconvert_exporter": "python",
   "pygments_lexer": "ipython3",
   "version": "3.7.4"
  }
 },
 "nbformat": 4,
 "nbformat_minor": 2
}
