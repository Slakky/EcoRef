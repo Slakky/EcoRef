{
 "cells": [
  {
   "cell_type": "code",
   "execution_count": 1,
   "metadata": {},
   "outputs": [],
   "source": [
    "import pandas as pd"
   ]
  },
  {
   "cell_type": "code",
   "execution_count": 10,
   "metadata": {},
   "outputs": [],
   "source": [
    "phenotypes = pd.read_csv('/home/claudio/Comp_Genetics/result_true/bugwas_phenotypes.tsv', sep ='\\t')\n",
    "genotypes = pd.read_csv('/home/claudio/Comp_Genetics/result_true/bugwas_genotypes.tsv', sep='\\t')\n",
    "frequencies = pd.read_csv('/home/claudio/Comp_Genetics/result_true/duplicate_samples.tsv', sep='\\t', header=None)\n",
    "orphans = pd.read_csv('/home/claudio/Comp_Genetics/result_true/nomatchingsamples.tsv', sep='\\t', header=None)"
   ]
  },
  {
   "cell_type": "markdown",
   "metadata": {},
   "source": [
    "Create a list of the top 200 most repeated no orphan samples, to create a subset"
   ]
  },
  {
   "cell_type": "code",
   "execution_count": 11,
   "metadata": {},
   "outputs": [],
   "source": [
    "## The samples in frequencies correspond to the non duplicated samples from the phenotypes\n",
    "\n",
    "orphans_list = list(orphans.iloc[:,0])\n",
    "orphans_list_unique = list(dict.fromkeys(orphans_list))\n",
    "frequencies_1 = list(frequencies.sort_values(by=[1], ascending=False).iloc[:,0])\n",
    "matching_list = [sample for sample in frequencies_1 if sample not in orphans_list_unique]\n",
    "matching_list.insert(0, 'ps')"
   ]
  },
  {
   "cell_type": "markdown",
   "metadata": {},
   "source": [
    "Subset the genotypes dataframes"
   ]
  },
  {
   "cell_type": "code",
   "execution_count": 12,
   "metadata": {},
   "outputs": [],
   "source": [
    "subset_genotypes = genotypes[matching_list]\n",
    "# in case it needs to be ordered subset_genotypes = subset_genotypes.reindex(sorted(subset_genotypes.columns[1:]), axis=1)\n",
    "subset_genotypes.to_csv('/home/claudio/Comp_Genetics/result_true/bugwas_genotypes_1.tsv', sep = '\\t', index = False)"
   ]
  },
  {
   "cell_type": "code",
   "execution_count": 15,
   "metadata": {},
   "outputs": [],
   "source": [
    "unique_phenotypes = phenotypes.drop_duplicates(subset=['ID'])\n",
    "subset_phenotypes = unique_phenotypes.loc[unique_phenotypes['ID'].isin(matching_list)]\n",
    "subset_phenotypes.to_csv('/home/claudio/Comp_Genetics/result_true/bugwas_phenotypes_1.tsv', sep = '\\t', index = False)"
   ]
  },
  {
   "cell_type": "code",
   "execution_count": 19,
   "metadata": {},
   "outputs": [
    {
     "data": {
      "text/html": [
       "<div>\n",
       "<style scoped>\n",
       "    .dataframe tbody tr th:only-of-type {\n",
       "        vertical-align: middle;\n",
       "    }\n",
       "\n",
       "    .dataframe tbody tr th {\n",
       "        vertical-align: top;\n",
       "    }\n",
       "\n",
       "    .dataframe thead th {\n",
       "        text-align: right;\n",
       "    }\n",
       "</style>\n",
       "<table border=\"1\" class=\"dataframe\">\n",
       "  <thead>\n",
       "    <tr style=\"text-align: right;\">\n",
       "      <th></th>\n",
       "      <th>ID</th>\n",
       "      <th>pheno</th>\n",
       "    </tr>\n",
       "  </thead>\n",
       "  <tbody>\n",
       "    <tr>\n",
       "      <td>0</td>\n",
       "      <td>NT12001</td>\n",
       "      <td>A22.0P5_0.973035122476</td>\n",
       "    </tr>\n",
       "    <tr>\n",
       "      <td>1</td>\n",
       "      <td>NT12002</td>\n",
       "      <td>A22.0P5_0.99304433225</td>\n",
       "    </tr>\n",
       "    <tr>\n",
       "      <td>2</td>\n",
       "      <td>NT12003</td>\n",
       "      <td>A22.0P5_-0.0434960013433</td>\n",
       "    </tr>\n",
       "    <tr>\n",
       "      <td>3</td>\n",
       "      <td>NT12004</td>\n",
       "      <td>A22.0P5_0.539469215047</td>\n",
       "    </tr>\n",
       "    <tr>\n",
       "      <td>4</td>\n",
       "      <td>NT12005</td>\n",
       "      <td>A22.0P5_0.256920860493</td>\n",
       "    </tr>\n",
       "    <tr>\n",
       "      <td>...</td>\n",
       "      <td>...</td>\n",
       "      <td>...</td>\n",
       "    </tr>\n",
       "    <tr>\n",
       "      <td>673</td>\n",
       "      <td>NT12879</td>\n",
       "      <td>A22.0P5_0.450689937731</td>\n",
       "    </tr>\n",
       "    <tr>\n",
       "      <td>674</td>\n",
       "      <td>NT12880</td>\n",
       "      <td>A22.0P5_-0.750376099385</td>\n",
       "    </tr>\n",
       "    <tr>\n",
       "      <td>675</td>\n",
       "      <td>NT12883</td>\n",
       "      <td>A22.0P5_-4.91958230803</td>\n",
       "    </tr>\n",
       "    <tr>\n",
       "      <td>676</td>\n",
       "      <td>NT12885</td>\n",
       "      <td>A22.0P5_-0.255816067252</td>\n",
       "    </tr>\n",
       "    <tr>\n",
       "      <td>677</td>\n",
       "      <td>NT12660</td>\n",
       "      <td>A22.1UM_0.0956062466071</td>\n",
       "    </tr>\n",
       "  </tbody>\n",
       "</table>\n",
       "<p>678 rows × 2 columns</p>\n",
       "</div>"
      ],
      "text/plain": [
       "          ID                     pheno\n",
       "0    NT12001    A22.0P5_0.973035122476\n",
       "1    NT12002     A22.0P5_0.99304433225\n",
       "2    NT12003  A22.0P5_-0.0434960013433\n",
       "3    NT12004    A22.0P5_0.539469215047\n",
       "4    NT12005    A22.0P5_0.256920860493\n",
       "..       ...                       ...\n",
       "673  NT12879    A22.0P5_0.450689937731\n",
       "674  NT12880   A22.0P5_-0.750376099385\n",
       "675  NT12883    A22.0P5_-4.91958230803\n",
       "676  NT12885   A22.0P5_-0.255816067252\n",
       "677  NT12660   A22.1UM_0.0956062466071\n",
       "\n",
       "[678 rows x 2 columns]"
      ]
     },
     "execution_count": 19,
     "metadata": {},
     "output_type": "execute_result"
    }
   ],
   "source": [
    "phenotypes"
   ]
  },
  {
   "cell_type": "code",
   "execution_count": 18,
   "metadata": {},
   "outputs": [
    {
     "data": {
      "text/html": [
       "<div>\n",
       "<style scoped>\n",
       "    .dataframe tbody tr th:only-of-type {\n",
       "        vertical-align: middle;\n",
       "    }\n",
       "\n",
       "    .dataframe tbody tr th {\n",
       "        vertical-align: top;\n",
       "    }\n",
       "\n",
       "    .dataframe thead th {\n",
       "        text-align: right;\n",
       "    }\n",
       "</style>\n",
       "<table border=\"1\" class=\"dataframe\">\n",
       "  <thead>\n",
       "    <tr style=\"text-align: right;\">\n",
       "      <th></th>\n",
       "      <th>ID</th>\n",
       "      <th>pheno</th>\n",
       "    </tr>\n",
       "  </thead>\n",
       "  <tbody>\n",
       "    <tr>\n",
       "      <td>0</td>\n",
       "      <td>NT12001</td>\n",
       "      <td>A22.0P5_0.973035122476</td>\n",
       "    </tr>\n",
       "    <tr>\n",
       "      <td>1</td>\n",
       "      <td>NT12002</td>\n",
       "      <td>A22.0P5_0.99304433225</td>\n",
       "    </tr>\n",
       "    <tr>\n",
       "      <td>2</td>\n",
       "      <td>NT12003</td>\n",
       "      <td>A22.0P5_-0.0434960013433</td>\n",
       "    </tr>\n",
       "    <tr>\n",
       "      <td>3</td>\n",
       "      <td>NT12004</td>\n",
       "      <td>A22.0P5_0.539469215047</td>\n",
       "    </tr>\n",
       "    <tr>\n",
       "      <td>4</td>\n",
       "      <td>NT12005</td>\n",
       "      <td>A22.0P5_0.256920860493</td>\n",
       "    </tr>\n",
       "    <tr>\n",
       "      <td>...</td>\n",
       "      <td>...</td>\n",
       "      <td>...</td>\n",
       "    </tr>\n",
       "    <tr>\n",
       "      <td>673</td>\n",
       "      <td>NT12879</td>\n",
       "      <td>A22.0P5_0.450689937731</td>\n",
       "    </tr>\n",
       "    <tr>\n",
       "      <td>674</td>\n",
       "      <td>NT12880</td>\n",
       "      <td>A22.0P5_-0.750376099385</td>\n",
       "    </tr>\n",
       "    <tr>\n",
       "      <td>675</td>\n",
       "      <td>NT12883</td>\n",
       "      <td>A22.0P5_-4.91958230803</td>\n",
       "    </tr>\n",
       "    <tr>\n",
       "      <td>676</td>\n",
       "      <td>NT12885</td>\n",
       "      <td>A22.0P5_-0.255816067252</td>\n",
       "    </tr>\n",
       "    <tr>\n",
       "      <td>677</td>\n",
       "      <td>NT12660</td>\n",
       "      <td>A22.1UM_0.0956062466071</td>\n",
       "    </tr>\n",
       "  </tbody>\n",
       "</table>\n",
       "<p>678 rows × 2 columns</p>\n",
       "</div>"
      ],
      "text/plain": [
       "          ID                     pheno\n",
       "0    NT12001    A22.0P5_0.973035122476\n",
       "1    NT12002     A22.0P5_0.99304433225\n",
       "2    NT12003  A22.0P5_-0.0434960013433\n",
       "3    NT12004    A22.0P5_0.539469215047\n",
       "4    NT12005    A22.0P5_0.256920860493\n",
       "..       ...                       ...\n",
       "673  NT12879    A22.0P5_0.450689937731\n",
       "674  NT12880   A22.0P5_-0.750376099385\n",
       "675  NT12883    A22.0P5_-4.91958230803\n",
       "676  NT12885   A22.0P5_-0.255816067252\n",
       "677  NT12660   A22.1UM_0.0956062466071\n",
       "\n",
       "[678 rows x 2 columns]"
      ]
     },
     "execution_count": 18,
     "metadata": {},
     "output_type": "execute_result"
    }
   ],
   "source": [
    "subset_phenotypes"
   ]
  }
 ],
 "metadata": {
  "kernelspec": {
   "display_name": "Python 3",
   "language": "python",
   "name": "python3"
  },
  "language_info": {
   "codemirror_mode": {
    "name": "ipython",
    "version": 3
   },
   "file_extension": ".py",
   "mimetype": "text/x-python",
   "name": "python",
   "nbconvert_exporter": "python",
   "pygments_lexer": "ipython3",
   "version": "3.7.3"
  }
 },
 "nbformat": 4,
 "nbformat_minor": 2
}
