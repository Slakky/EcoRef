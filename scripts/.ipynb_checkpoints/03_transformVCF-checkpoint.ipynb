{
 "cells": [
  {
   "cell_type": "code",
   "execution_count": 1,
   "metadata": {},
   "outputs": [],
   "source": [
    "from cyvcf2 import VCF\n",
    "import pandas as pd\n",
    "\n",
    "#def import_vcf_as_gt_array(f, threads=1): returnnp.array([variant.gt_types for variant in VCF(f,threads=threads, gts012=True) ])\n",
    "def import_vcf_as_DataFrame(input_vcf, threads=1):\n",
    "    \"\"\"imports the vcf as a nxm array of 0s and 1s\"\"\"\n",
    "    def transform_bases(gt_bases):\n",
    "        \"\"\"transforms bases. necessary due \"\"\"\n",
    "        ## changed the original function to keep the nucleotide names instead of creating a matrix of 0 and 1 for reference or variant\n",
    "        d = {\".\":variant.REF, \"G\":\"G\",\"A\":\"A\",\"T\":\"T\",\"C\":\"C\"}\n",
    "        new_list = [d[i] for i in gt_bases]\n",
    "        return new_list      \n",
    "    \n",
    "    vcf = VCF(input_vcf,threads=threads, gts012=True)\n",
    "    gt_list = []\n",
    "    snp_pos = []\n",
    "    ref_list = []\n",
    "    for variant in vcf:\n",
    "        if not len(variant.ALT)>=2:    # exclude multiallelic snps\n",
    "            gt_list.append(transform_bases(variant.gt_bases)) \n",
    "            # ref_list.append(variant.REF) # added the reference genotype at the end of the list\n",
    "            snp_pos.append(str(variant.POS))\n",
    "            \n",
    "    ref_pd = pd.DataFrame(ref_list)\n",
    "    ref_pd.index = snp_pos\n",
    "    # ref_pd.columns = ['NT12001_756.fasta'] # NT12001 is the reference genotype sample that \n",
    "    # is present on the tree and phenotype files. It was not present before so I had to add it. The '_NNN.fasta' is a workarround so it\n",
    "    # has the same format as every sample, it'll be easier to parse everything at the same time\n",
    "    \n",
    "    gt_pd = pd.DataFrame(gt_list)\n",
    "    gt_pd.index= snp_pos\n",
    "    gt_pd.columns= vcf.samples \n",
    "    \n",
    "    full_gt = pd.concat([gt_pd, ref_pd], axis=1)\n",
    "    return full_gt"
   ]
  },
  {
   "cell_type": "code",
   "execution_count": 2,
   "metadata": {},
   "outputs": [],
   "source": [
    "genotypes = import_vcf_as_DataFrame(\"/home/claudio/Comp_Genetics/raw_data/snps_OG.vcf\", threads=4)\n",
    "genotypes.to_csv(\"/home/claudio/Comp_Genetics/raw_data/genotypes_ref.tsv\", sep = \"\\t\")"
   ]
  },
  {
   "cell_type": "code",
   "execution_count": null,
   "metadata": {},
   "outputs": [],
   "source": []
  }
 ],
 "metadata": {
  "kernelspec": {
   "display_name": "Python 3",
   "language": "python",
   "name": "python3"
  },
  "language_info": {
   "codemirror_mode": {
    "name": "ipython",
    "version": 3
   },
   "file_extension": ".py",
   "mimetype": "text/x-python",
   "name": "python",
   "nbconvert_exporter": "python",
   "pygments_lexer": "ipython3",
   "version": "3.7.3"
  }
 },
 "nbformat": 4,
 "nbformat_minor": 2
}
